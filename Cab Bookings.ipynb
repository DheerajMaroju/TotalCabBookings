{
 "cells": [
  {
   "cell_type": "code",
   "execution_count": 5,
   "metadata": {},
   "outputs": [],
   "source": [
    "import pandas as pd\n",
    "import numpy as np\n",
    "from pprint import pprint\n",
    "from sklearn.preprocessing import LabelEncoder,StandardScaler\n",
    "from sklearn.model_selection import GridSearchCV\n",
    "from sklearn.linear_model import LogisticRegression,LinearRegression,Lasso,Ridge\n",
    "from sklearn.svm import SVR\n",
    "from xgboost.sklearn import XGBRegressor\n",
    "import xgboost as xgb\n",
    "from sklearn.ensemble import AdaBoostRegressor,RandomForestRegressor\n",
    "from sklearn.tree import DecisionTreeRegressor\n",
    "from sklearn.metrics import mean_squared_error\n",
    "import matplotlib.pyplot as plt\n",
    "%matplotlib inline\n",
    "import seaborn as sns\n",
    "from datetime import datetime\n",
    "import calendar"
   ]
  },
  {
   "cell_type": "code",
   "execution_count": 698,
   "metadata": {},
   "outputs": [],
   "source": [
    "import warnings \n",
    "warnings.filterwarnings(\"ignore\")"
   ]
  },
  {
   "cell_type": "markdown",
   "metadata": {},
   "source": [
    "Loading Datasets"
   ]
  },
  {
   "cell_type": "code",
   "execution_count": 699,
   "metadata": {},
   "outputs": [
    {
     "data": {
      "text/html": [
       "<div>\n",
       "<style scoped>\n",
       "    .dataframe tbody tr th:only-of-type {\n",
       "        vertical-align: middle;\n",
       "    }\n",
       "\n",
       "    .dataframe tbody tr th {\n",
       "        vertical-align: top;\n",
       "    }\n",
       "\n",
       "    .dataframe thead th {\n",
       "        text-align: right;\n",
       "    }\n",
       "</style>\n",
       "<table border=\"1\" class=\"dataframe\">\n",
       "  <thead>\n",
       "    <tr style=\"text-align: right;\">\n",
       "      <th></th>\n",
       "      <th>datetime</th>\n",
       "      <th>season</th>\n",
       "      <th>holiday</th>\n",
       "      <th>workingday</th>\n",
       "      <th>weather</th>\n",
       "      <th>temp</th>\n",
       "      <th>atemp</th>\n",
       "      <th>humidity</th>\n",
       "      <th>windspeed</th>\n",
       "    </tr>\n",
       "  </thead>\n",
       "  <tbody>\n",
       "    <tr>\n",
       "      <td>0</td>\n",
       "      <td>5/10/2012 11:00</td>\n",
       "      <td>Summer</td>\n",
       "      <td>0</td>\n",
       "      <td>1</td>\n",
       "      <td>Clear + Few clouds</td>\n",
       "      <td>21.32</td>\n",
       "      <td>25.000</td>\n",
       "      <td>48</td>\n",
       "      <td>35.0008</td>\n",
       "    </tr>\n",
       "    <tr>\n",
       "      <td>1</td>\n",
       "      <td>6/9/2012 7:00</td>\n",
       "      <td>Summer</td>\n",
       "      <td>0</td>\n",
       "      <td>0</td>\n",
       "      <td>Clear + Few clouds</td>\n",
       "      <td>23.78</td>\n",
       "      <td>27.275</td>\n",
       "      <td>64</td>\n",
       "      <td>7.0015</td>\n",
       "    </tr>\n",
       "    <tr>\n",
       "      <td>2</td>\n",
       "      <td>3/6/2011 20:00</td>\n",
       "      <td>Spring</td>\n",
       "      <td>0</td>\n",
       "      <td>0</td>\n",
       "      <td>Light Snow, Light Rain</td>\n",
       "      <td>11.48</td>\n",
       "      <td>12.120</td>\n",
       "      <td>100</td>\n",
       "      <td>27.9993</td>\n",
       "    </tr>\n",
       "    <tr>\n",
       "      <td>3</td>\n",
       "      <td>10/13/2011 11:00</td>\n",
       "      <td>Winter</td>\n",
       "      <td>0</td>\n",
       "      <td>1</td>\n",
       "      <td>Mist + Cloudy</td>\n",
       "      <td>25.42</td>\n",
       "      <td>28.790</td>\n",
       "      <td>83</td>\n",
       "      <td>0.0000</td>\n",
       "    </tr>\n",
       "    <tr>\n",
       "      <td>4</td>\n",
       "      <td>6/2/2012 12:00</td>\n",
       "      <td>Summer</td>\n",
       "      <td>0</td>\n",
       "      <td>0</td>\n",
       "      <td>Clear + Few clouds</td>\n",
       "      <td>25.42</td>\n",
       "      <td>31.060</td>\n",
       "      <td>43</td>\n",
       "      <td>23.9994</td>\n",
       "    </tr>\n",
       "  </tbody>\n",
       "</table>\n",
       "</div>"
      ],
      "text/plain": [
       "           datetime  season  holiday  workingday                  weather  \\\n",
       "0   5/10/2012 11:00  Summer        0           1       Clear + Few clouds   \n",
       "1     6/9/2012 7:00  Summer        0           0       Clear + Few clouds   \n",
       "2    3/6/2011 20:00  Spring        0           0   Light Snow, Light Rain   \n",
       "3  10/13/2011 11:00  Winter        0           1           Mist + Cloudy    \n",
       "4    6/2/2012 12:00  Summer        0           0       Clear + Few clouds   \n",
       "\n",
       "    temp   atemp  humidity  windspeed  \n",
       "0  21.32  25.000        48    35.0008  \n",
       "1  23.78  27.275        64     7.0015  \n",
       "2  11.48  12.120       100    27.9993  \n",
       "3  25.42  28.790        83     0.0000  \n",
       "4  25.42  31.060        43    23.9994  "
      ]
     },
     "execution_count": 699,
     "metadata": {},
     "output_type": "execute_result"
    }
   ],
   "source": [
    "x_train=pd.read_csv(r\"F:\\Edureka\\PGP AI_ML\\MID TERM PROJECT-1\\Dataset\\train.csv\")\n",
    "y_train=pd.read_csv(r\"F:\\Edureka\\PGP AI_ML\\MID TERM PROJECT-1\\Dataset\\train_label.csv\",header=None)\n",
    "y_train.columns=[\"total_bookings\"]\n",
    "\n",
    "x_test=pd.read_csv(r\"F:\\Edureka\\PGP AI_ML\\MID TERM PROJECT-1\\Dataset\\test.csv\")\n",
    "y_test=pd.read_csv(r\"F:\\Edureka\\PGP AI_ML\\MID TERM PROJECT-1\\Dataset\\test_label.csv\",header=None)\n",
    "y_test.columns=[\"total_bookings\"]\n",
    "\n",
    "x_test.head()"
   ]
  },
  {
   "cell_type": "code",
   "execution_count": 700,
   "metadata": {},
   "outputs": [
    {
     "data": {
      "text/plain": [
       "((8708, 9), (8708, 1), (2178, 9), (2178, 1))"
      ]
     },
     "execution_count": 700,
     "metadata": {},
     "output_type": "execute_result"
    }
   ],
   "source": [
    "x_train.shape,y_train.shape,x_test.shape,y_test.shape"
   ]
  },
  {
   "cell_type": "code",
   "execution_count": 701,
   "metadata": {},
   "outputs": [
    {
     "data": {
      "text/plain": [
       "datetime       object\n",
       "season         object\n",
       "holiday         int64\n",
       "workingday      int64\n",
       "weather        object\n",
       "temp          float64\n",
       "atemp         float64\n",
       "humidity        int64\n",
       "windspeed     float64\n",
       "dtype: object"
      ]
     },
     "execution_count": 701,
     "metadata": {},
     "output_type": "execute_result"
    }
   ],
   "source": [
    "x_train.dtypes"
   ]
  },
  {
   "cell_type": "markdown",
   "metadata": {},
   "source": [
    "# TASK 2- QUESTION 1- FEATURE ENGINEERING"
   ]
  },
  {
   "cell_type": "markdown",
   "metadata": {},
   "source": [
    "Creating date, hour, weekday, month and removing datetime, for better understanding of the dataset"
   ]
  },
  {
   "cell_type": "code",
   "execution_count": 702,
   "metadata": {},
   "outputs": [],
   "source": [
    "x_train['date']=x_train.datetime.apply(lambda x : x.split()[0])\n",
    "x_train['hour']=x_train.datetime.apply(lambda x : x.split()[1].split(\":\")[0])\n",
    "x_train[\"weekday\"]=x_train.date.apply(lambda x : calendar.day_name[datetime.strptime(x,\"%m/%d/%Y\").weekday()])\n",
    "x_train[\"month\"]=x_train.date.apply(lambda x : calendar.month_name[datetime.strptime(x,\"%m/%d/%Y\").month])\n",
    "x_train.drop([\"datetime\"],axis=1,inplace=True)\n",
    "\n",
    "#same changes for x_test as well\n",
    "\n",
    "x_test['date']=x_test.datetime.apply(lambda x : x.split()[0])\n",
    "x_test['hour']=x_test.datetime.apply(lambda x : x.split()[1].split(\":\")[0])\n",
    "x_test[\"weekday\"]=x_test.date.apply(lambda x : calendar.day_name[datetime.strptime(x,\"%m/%d/%Y\").weekday()])\n",
    "x_test[\"month\"]=x_test.date.apply(lambda x : calendar.month_name[datetime.strptime(x,\"%m/%d/%Y\").month])\n",
    "x_test.drop([\"datetime\"],axis=1,inplace=True)"
   ]
  },
  {
   "cell_type": "code",
   "execution_count": 703,
   "metadata": {},
   "outputs": [
    {
     "data": {
      "text/html": [
       "<div>\n",
       "<style scoped>\n",
       "    .dataframe tbody tr th:only-of-type {\n",
       "        vertical-align: middle;\n",
       "    }\n",
       "\n",
       "    .dataframe tbody tr th {\n",
       "        vertical-align: top;\n",
       "    }\n",
       "\n",
       "    .dataframe thead th {\n",
       "        text-align: right;\n",
       "    }\n",
       "</style>\n",
       "<table border=\"1\" class=\"dataframe\">\n",
       "  <thead>\n",
       "    <tr style=\"text-align: right;\">\n",
       "      <th></th>\n",
       "      <th>season</th>\n",
       "      <th>holiday</th>\n",
       "      <th>workingday</th>\n",
       "      <th>weather</th>\n",
       "      <th>temp</th>\n",
       "      <th>atemp</th>\n",
       "      <th>humidity</th>\n",
       "      <th>windspeed</th>\n",
       "      <th>date</th>\n",
       "      <th>hour</th>\n",
       "      <th>weekday</th>\n",
       "      <th>month</th>\n",
       "    </tr>\n",
       "  </thead>\n",
       "  <tbody>\n",
       "    <tr>\n",
       "      <td>0</td>\n",
       "      <td>Summer</td>\n",
       "      <td>0</td>\n",
       "      <td>1</td>\n",
       "      <td>Clear + Few clouds</td>\n",
       "      <td>22.14</td>\n",
       "      <td>25.760</td>\n",
       "      <td>77</td>\n",
       "      <td>16.9979</td>\n",
       "      <td>5/2/2012</td>\n",
       "      <td>19</td>\n",
       "      <td>Wednesday</td>\n",
       "      <td>May</td>\n",
       "    </tr>\n",
       "    <tr>\n",
       "      <td>1</td>\n",
       "      <td>Fall</td>\n",
       "      <td>0</td>\n",
       "      <td>1</td>\n",
       "      <td>Clear + Few clouds</td>\n",
       "      <td>28.70</td>\n",
       "      <td>33.335</td>\n",
       "      <td>79</td>\n",
       "      <td>19.0012</td>\n",
       "      <td>9/5/2012</td>\n",
       "      <td>4</td>\n",
       "      <td>Wednesday</td>\n",
       "      <td>September</td>\n",
       "    </tr>\n",
       "    <tr>\n",
       "      <td>2</td>\n",
       "      <td>Spring</td>\n",
       "      <td>0</td>\n",
       "      <td>1</td>\n",
       "      <td>Clear + Few clouds</td>\n",
       "      <td>5.74</td>\n",
       "      <td>6.060</td>\n",
       "      <td>50</td>\n",
       "      <td>22.0028</td>\n",
       "      <td>1/13/2011</td>\n",
       "      <td>9</td>\n",
       "      <td>Thursday</td>\n",
       "      <td>January</td>\n",
       "    </tr>\n",
       "    <tr>\n",
       "      <td>3</td>\n",
       "      <td>Winter</td>\n",
       "      <td>0</td>\n",
       "      <td>1</td>\n",
       "      <td>Clear + Few clouds</td>\n",
       "      <td>13.94</td>\n",
       "      <td>16.665</td>\n",
       "      <td>29</td>\n",
       "      <td>8.9981</td>\n",
       "      <td>11/18/2011</td>\n",
       "      <td>16</td>\n",
       "      <td>Friday</td>\n",
       "      <td>November</td>\n",
       "    </tr>\n",
       "    <tr>\n",
       "      <td>4</td>\n",
       "      <td>Fall</td>\n",
       "      <td>0</td>\n",
       "      <td>1</td>\n",
       "      <td>Clear + Few clouds</td>\n",
       "      <td>30.34</td>\n",
       "      <td>33.335</td>\n",
       "      <td>51</td>\n",
       "      <td>19.0012</td>\n",
       "      <td>9/13/2011</td>\n",
       "      <td>13</td>\n",
       "      <td>Tuesday</td>\n",
       "      <td>September</td>\n",
       "    </tr>\n",
       "  </tbody>\n",
       "</table>\n",
       "</div>"
      ],
      "text/plain": [
       "   season  holiday  workingday              weather   temp   atemp  humidity  \\\n",
       "0  Summer        0           1   Clear + Few clouds  22.14  25.760        77   \n",
       "1    Fall        0           1   Clear + Few clouds  28.70  33.335        79   \n",
       "2  Spring        0           1   Clear + Few clouds   5.74   6.060        50   \n",
       "3  Winter        0           1   Clear + Few clouds  13.94  16.665        29   \n",
       "4    Fall        0           1   Clear + Few clouds  30.34  33.335        51   \n",
       "\n",
       "   windspeed        date hour    weekday      month  \n",
       "0    16.9979    5/2/2012   19  Wednesday        May  \n",
       "1    19.0012    9/5/2012    4  Wednesday  September  \n",
       "2    22.0028   1/13/2011    9   Thursday    January  \n",
       "3     8.9981  11/18/2011   16     Friday   November  \n",
       "4    19.0012   9/13/2011   13    Tuesday  September  "
      ]
     },
     "execution_count": 703,
     "metadata": {},
     "output_type": "execute_result"
    }
   ],
   "source": [
    "x_train.head()"
   ]
  },
  {
   "cell_type": "code",
   "execution_count": 704,
   "metadata": {},
   "outputs": [
    {
     "data": {
      "text/plain": [
       "season         object\n",
       "holiday         int64\n",
       "workingday      int64\n",
       "weather        object\n",
       "temp          float64\n",
       "atemp         float64\n",
       "humidity        int64\n",
       "windspeed     float64\n",
       "date           object\n",
       "hour           object\n",
       "weekday        object\n",
       "month          object\n",
       "dtype: object"
      ]
     },
     "execution_count": 704,
     "metadata": {},
     "output_type": "execute_result"
    }
   ],
   "source": [
    "x_train.dtypes"
   ]
  },
  {
   "cell_type": "code",
   "execution_count": 705,
   "metadata": {},
   "outputs": [
    {
     "data": {
      "text/plain": [
       "array([' Clear + Few clouds', ' Light Snow, Light Rain',\n",
       "       ' Mist + Cloudy ', ' Heavy Rain + Thunderstorm '], dtype=object)"
      ]
     },
     "execution_count": 705,
     "metadata": {},
     "output_type": "execute_result"
    }
   ],
   "source": [
    "x_train[\"weather\"].unique()"
   ]
  },
  {
   "cell_type": "markdown",
   "metadata": {},
   "source": [
    "Here, we can notice that, if it is-\n",
    "\n",
    "1. clear, for sure the other half is few clouds\n",
    "2. light snow, for sure the other half is light rain\n",
    "3. mist, for sure the other half is cloudy\n",
    "4. heavy rain, for sure the other half is thunderstorm.\n",
    "\n",
    "Hence, we dont need to consider the second half, and we can keep only the first half"
   ]
  },
  {
   "cell_type": "code",
   "execution_count": 706,
   "metadata": {},
   "outputs": [
    {
     "data": {
      "text/html": [
       "<div>\n",
       "<style scoped>\n",
       "    .dataframe tbody tr th:only-of-type {\n",
       "        vertical-align: middle;\n",
       "    }\n",
       "\n",
       "    .dataframe tbody tr th {\n",
       "        vertical-align: top;\n",
       "    }\n",
       "\n",
       "    .dataframe thead th {\n",
       "        text-align: right;\n",
       "    }\n",
       "</style>\n",
       "<table border=\"1\" class=\"dataframe\">\n",
       "  <thead>\n",
       "    <tr style=\"text-align: right;\">\n",
       "      <th></th>\n",
       "      <th>season</th>\n",
       "      <th>holiday</th>\n",
       "      <th>workingday</th>\n",
       "      <th>weather</th>\n",
       "      <th>temp</th>\n",
       "      <th>atemp</th>\n",
       "      <th>humidity</th>\n",
       "      <th>windspeed</th>\n",
       "      <th>date</th>\n",
       "      <th>hour</th>\n",
       "      <th>weekday</th>\n",
       "      <th>month</th>\n",
       "    </tr>\n",
       "  </thead>\n",
       "  <tbody>\n",
       "    <tr>\n",
       "      <td>0</td>\n",
       "      <td>Summer</td>\n",
       "      <td>0</td>\n",
       "      <td>1</td>\n",
       "      <td>Clear</td>\n",
       "      <td>22.14</td>\n",
       "      <td>25.760</td>\n",
       "      <td>77</td>\n",
       "      <td>16.9979</td>\n",
       "      <td>5/2/2012</td>\n",
       "      <td>19</td>\n",
       "      <td>Wednesday</td>\n",
       "      <td>May</td>\n",
       "    </tr>\n",
       "    <tr>\n",
       "      <td>1</td>\n",
       "      <td>Fall</td>\n",
       "      <td>0</td>\n",
       "      <td>1</td>\n",
       "      <td>Clear</td>\n",
       "      <td>28.70</td>\n",
       "      <td>33.335</td>\n",
       "      <td>79</td>\n",
       "      <td>19.0012</td>\n",
       "      <td>9/5/2012</td>\n",
       "      <td>4</td>\n",
       "      <td>Wednesday</td>\n",
       "      <td>September</td>\n",
       "    </tr>\n",
       "    <tr>\n",
       "      <td>2</td>\n",
       "      <td>Spring</td>\n",
       "      <td>0</td>\n",
       "      <td>1</td>\n",
       "      <td>Clear</td>\n",
       "      <td>5.74</td>\n",
       "      <td>6.060</td>\n",
       "      <td>50</td>\n",
       "      <td>22.0028</td>\n",
       "      <td>1/13/2011</td>\n",
       "      <td>9</td>\n",
       "      <td>Thursday</td>\n",
       "      <td>January</td>\n",
       "    </tr>\n",
       "    <tr>\n",
       "      <td>3</td>\n",
       "      <td>Winter</td>\n",
       "      <td>0</td>\n",
       "      <td>1</td>\n",
       "      <td>Clear</td>\n",
       "      <td>13.94</td>\n",
       "      <td>16.665</td>\n",
       "      <td>29</td>\n",
       "      <td>8.9981</td>\n",
       "      <td>11/18/2011</td>\n",
       "      <td>16</td>\n",
       "      <td>Friday</td>\n",
       "      <td>November</td>\n",
       "    </tr>\n",
       "    <tr>\n",
       "      <td>4</td>\n",
       "      <td>Fall</td>\n",
       "      <td>0</td>\n",
       "      <td>1</td>\n",
       "      <td>Clear</td>\n",
       "      <td>30.34</td>\n",
       "      <td>33.335</td>\n",
       "      <td>51</td>\n",
       "      <td>19.0012</td>\n",
       "      <td>9/13/2011</td>\n",
       "      <td>13</td>\n",
       "      <td>Tuesday</td>\n",
       "      <td>September</td>\n",
       "    </tr>\n",
       "    <tr>\n",
       "      <td>5</td>\n",
       "      <td>Fall</td>\n",
       "      <td>0</td>\n",
       "      <td>1</td>\n",
       "      <td>Clear</td>\n",
       "      <td>33.62</td>\n",
       "      <td>12.120</td>\n",
       "      <td>36</td>\n",
       "      <td>22.0028</td>\n",
       "      <td>8/17/2012</td>\n",
       "      <td>17</td>\n",
       "      <td>Friday</td>\n",
       "      <td>August</td>\n",
       "    </tr>\n",
       "    <tr>\n",
       "      <td>6</td>\n",
       "      <td>Winter</td>\n",
       "      <td>0</td>\n",
       "      <td>0</td>\n",
       "      <td>Clear</td>\n",
       "      <td>24.60</td>\n",
       "      <td>29.545</td>\n",
       "      <td>73</td>\n",
       "      <td>12.9980</td>\n",
       "      <td>10/6/2012</td>\n",
       "      <td>9</td>\n",
       "      <td>Saturday</td>\n",
       "      <td>October</td>\n",
       "    </tr>\n",
       "    <tr>\n",
       "      <td>7</td>\n",
       "      <td>Fall</td>\n",
       "      <td>0</td>\n",
       "      <td>1</td>\n",
       "      <td>Clear</td>\n",
       "      <td>21.32</td>\n",
       "      <td>25.000</td>\n",
       "      <td>68</td>\n",
       "      <td>19.0012</td>\n",
       "      <td>9/10/2012</td>\n",
       "      <td>4</td>\n",
       "      <td>Monday</td>\n",
       "      <td>September</td>\n",
       "    </tr>\n",
       "    <tr>\n",
       "      <td>8</td>\n",
       "      <td>Fall</td>\n",
       "      <td>0</td>\n",
       "      <td>0</td>\n",
       "      <td>Light Snow</td>\n",
       "      <td>27.06</td>\n",
       "      <td>31.060</td>\n",
       "      <td>61</td>\n",
       "      <td>7.0015</td>\n",
       "      <td>7/14/2012</td>\n",
       "      <td>4</td>\n",
       "      <td>Saturday</td>\n",
       "      <td>July</td>\n",
       "    </tr>\n",
       "    <tr>\n",
       "      <td>9</td>\n",
       "      <td>Spring</td>\n",
       "      <td>0</td>\n",
       "      <td>0</td>\n",
       "      <td>Clear</td>\n",
       "      <td>12.30</td>\n",
       "      <td>15.150</td>\n",
       "      <td>56</td>\n",
       "      <td>11.0014</td>\n",
       "      <td>2/6/2011</td>\n",
       "      <td>18</td>\n",
       "      <td>Sunday</td>\n",
       "      <td>February</td>\n",
       "    </tr>\n",
       "  </tbody>\n",
       "</table>\n",
       "</div>"
      ],
      "text/plain": [
       "   season  holiday  workingday      weather   temp   atemp  humidity  \\\n",
       "0  Summer        0           1        Clear  22.14  25.760        77   \n",
       "1    Fall        0           1        Clear  28.70  33.335        79   \n",
       "2  Spring        0           1        Clear   5.74   6.060        50   \n",
       "3  Winter        0           1        Clear  13.94  16.665        29   \n",
       "4    Fall        0           1        Clear  30.34  33.335        51   \n",
       "5    Fall        0           1        Clear  33.62  12.120        36   \n",
       "6  Winter        0           0        Clear  24.60  29.545        73   \n",
       "7    Fall        0           1        Clear  21.32  25.000        68   \n",
       "8    Fall        0           0   Light Snow  27.06  31.060        61   \n",
       "9  Spring        0           0        Clear  12.30  15.150        56   \n",
       "\n",
       "   windspeed        date hour    weekday      month  \n",
       "0    16.9979    5/2/2012   19  Wednesday        May  \n",
       "1    19.0012    9/5/2012    4  Wednesday  September  \n",
       "2    22.0028   1/13/2011    9   Thursday    January  \n",
       "3     8.9981  11/18/2011   16     Friday   November  \n",
       "4    19.0012   9/13/2011   13    Tuesday  September  \n",
       "5    22.0028   8/17/2012   17     Friday     August  \n",
       "6    12.9980   10/6/2012    9   Saturday    October  \n",
       "7    19.0012   9/10/2012    4     Monday  September  \n",
       "8     7.0015   7/14/2012    4   Saturday       July  \n",
       "9    11.0014    2/6/2011   18     Sunday   February  "
      ]
     },
     "execution_count": 706,
     "metadata": {},
     "output_type": "execute_result"
    }
   ],
   "source": [
    "x_train[\"weather\"]=x_train.weather.apply(lambda x : x.split(\" + \")[0])\n",
    "x_train[\"weather\"]=x_train.weather.apply(lambda x : x.replace(\"Light Snow, Light Rain\",\"Light Snow\"))\n",
    "\n",
    "#applying the same changes on test data\n",
    "\n",
    "x_test[\"weather\"]=x_test.weather.apply(lambda x : x.split(\" + \")[0])\n",
    "x_test[\"weather\"]=x_test.weather.apply(lambda x : x.replace(\"Light Snow, Light Rain\",\"Light Snow\"))\n",
    "\n",
    "x_train.head(10)"
   ]
  },
  {
   "cell_type": "markdown",
   "metadata": {},
   "source": [
    "# TASK 1- QUESTION 1- DATA VISUALIZATION"
   ]
  },
  {
   "cell_type": "markdown",
   "metadata": {},
   "source": [
    "combining x_train and y_train to ease visualizations"
   ]
  },
  {
   "cell_type": "code",
   "execution_count": 707,
   "metadata": {},
   "outputs": [
    {
     "data": {
      "text/html": [
       "<div>\n",
       "<style scoped>\n",
       "    .dataframe tbody tr th:only-of-type {\n",
       "        vertical-align: middle;\n",
       "    }\n",
       "\n",
       "    .dataframe tbody tr th {\n",
       "        vertical-align: top;\n",
       "    }\n",
       "\n",
       "    .dataframe thead th {\n",
       "        text-align: right;\n",
       "    }\n",
       "</style>\n",
       "<table border=\"1\" class=\"dataframe\">\n",
       "  <thead>\n",
       "    <tr style=\"text-align: right;\">\n",
       "      <th></th>\n",
       "      <th>season</th>\n",
       "      <th>holiday</th>\n",
       "      <th>workingday</th>\n",
       "      <th>weather</th>\n",
       "      <th>temp</th>\n",
       "      <th>atemp</th>\n",
       "      <th>humidity</th>\n",
       "      <th>windspeed</th>\n",
       "      <th>date</th>\n",
       "      <th>hour</th>\n",
       "      <th>weekday</th>\n",
       "      <th>month</th>\n",
       "      <th>total_bookings</th>\n",
       "    </tr>\n",
       "  </thead>\n",
       "  <tbody>\n",
       "    <tr>\n",
       "      <td>0</td>\n",
       "      <td>Summer</td>\n",
       "      <td>0</td>\n",
       "      <td>1</td>\n",
       "      <td>Clear</td>\n",
       "      <td>22.14</td>\n",
       "      <td>25.760</td>\n",
       "      <td>77</td>\n",
       "      <td>16.9979</td>\n",
       "      <td>5/2/2012</td>\n",
       "      <td>19</td>\n",
       "      <td>Wednesday</td>\n",
       "      <td>May</td>\n",
       "      <td>504</td>\n",
       "    </tr>\n",
       "    <tr>\n",
       "      <td>1</td>\n",
       "      <td>Fall</td>\n",
       "      <td>0</td>\n",
       "      <td>1</td>\n",
       "      <td>Clear</td>\n",
       "      <td>28.70</td>\n",
       "      <td>33.335</td>\n",
       "      <td>79</td>\n",
       "      <td>19.0012</td>\n",
       "      <td>9/5/2012</td>\n",
       "      <td>4</td>\n",
       "      <td>Wednesday</td>\n",
       "      <td>September</td>\n",
       "      <td>5</td>\n",
       "    </tr>\n",
       "    <tr>\n",
       "      <td>2</td>\n",
       "      <td>Spring</td>\n",
       "      <td>0</td>\n",
       "      <td>1</td>\n",
       "      <td>Clear</td>\n",
       "      <td>5.74</td>\n",
       "      <td>6.060</td>\n",
       "      <td>50</td>\n",
       "      <td>22.0028</td>\n",
       "      <td>1/13/2011</td>\n",
       "      <td>9</td>\n",
       "      <td>Thursday</td>\n",
       "      <td>January</td>\n",
       "      <td>139</td>\n",
       "    </tr>\n",
       "    <tr>\n",
       "      <td>3</td>\n",
       "      <td>Winter</td>\n",
       "      <td>0</td>\n",
       "      <td>1</td>\n",
       "      <td>Clear</td>\n",
       "      <td>13.94</td>\n",
       "      <td>16.665</td>\n",
       "      <td>29</td>\n",
       "      <td>8.9981</td>\n",
       "      <td>11/18/2011</td>\n",
       "      <td>16</td>\n",
       "      <td>Friday</td>\n",
       "      <td>November</td>\n",
       "      <td>209</td>\n",
       "    </tr>\n",
       "    <tr>\n",
       "      <td>4</td>\n",
       "      <td>Fall</td>\n",
       "      <td>0</td>\n",
       "      <td>1</td>\n",
       "      <td>Clear</td>\n",
       "      <td>30.34</td>\n",
       "      <td>33.335</td>\n",
       "      <td>51</td>\n",
       "      <td>19.0012</td>\n",
       "      <td>9/13/2011</td>\n",
       "      <td>13</td>\n",
       "      <td>Tuesday</td>\n",
       "      <td>September</td>\n",
       "      <td>184</td>\n",
       "    </tr>\n",
       "  </tbody>\n",
       "</table>\n",
       "</div>"
      ],
      "text/plain": [
       "   season  holiday  workingday weather   temp   atemp  humidity  windspeed  \\\n",
       "0  Summer        0           1   Clear  22.14  25.760        77    16.9979   \n",
       "1    Fall        0           1   Clear  28.70  33.335        79    19.0012   \n",
       "2  Spring        0           1   Clear   5.74   6.060        50    22.0028   \n",
       "3  Winter        0           1   Clear  13.94  16.665        29     8.9981   \n",
       "4    Fall        0           1   Clear  30.34  33.335        51    19.0012   \n",
       "\n",
       "         date hour    weekday      month  total_bookings  \n",
       "0    5/2/2012   19  Wednesday        May             504  \n",
       "1    9/5/2012    4  Wednesday  September               5  \n",
       "2   1/13/2011    9   Thursday    January             139  \n",
       "3  11/18/2011   16     Friday   November             209  \n",
       "4   9/13/2011   13    Tuesday  September             184  "
      ]
     },
     "execution_count": 707,
     "metadata": {},
     "output_type": "execute_result"
    }
   ],
   "source": [
    "x=x_train\n",
    "x[\"total_bookings\"]=y_train\n",
    "x.head()"
   ]
  },
  {
   "cell_type": "markdown",
   "metadata": {},
   "source": [
    "season vs total bookings, to see how the bookings are related with the kind of season"
   ]
  },
  {
   "cell_type": "code",
   "execution_count": 708,
   "metadata": {},
   "outputs": [
    {
     "data": {
      "image/png": "[encoded data removed]",
      "text/plain": [
       "<Figure size 504x504 with 1 Axes>"
      ]
     },
     "metadata": {
      "needs_background": "light"
     },
     "output_type": "display_data"
    }
   ],
   "source": [
    "bookings_season=x.groupby([\"season\"])\n",
    "season=list(bookings_season[\"season\"].first())\n",
    "bookings_season=list(bookings_season[\"total_bookings\"].sum())\n",
    "\n",
    "plt.figure(figsize=(7,7))\n",
    "y_pos=np.arange(len(season))\n",
    "plt.bar(y_pos,bookings_season,align=\"center\")\n",
    "plt.xticks(y_pos,season)\n",
    "plt.xlabel(\"Seasons\")\n",
    "plt.ylabel(\"Total_Bookings\")\n",
    "plt.title(\"SEASON VS TOTAL BOOKINGS\")\n",
    "plt.show()"
   ]
  },
  {
   "cell_type": "markdown",
   "metadata": {},
   "source": [
    "we can infer that spring season recieved the least number of bookings, and fall recieved the highest number of bookings\n",
    "\n",
    "\n",
    "\n",
    "\n",
    "temp vs total bookings, to see how the bookings are related with temp"
   ]
  },
  {
   "cell_type": "code",
   "execution_count": 709,
   "metadata": {},
   "outputs": [
    {
     "data": {
      "image/png": "[encoded data removed]",
      "text/plain": [
       "<Figure size 648x648 with 1 Axes>"
      ]
     },
     "metadata": {
      "needs_background": "light"
     },
     "output_type": "display_data"
    }
   ],
   "source": [
    "bookings_temp=x.groupby([\"temp\"]).sum().reset_index()\n",
    "bookings_temp=bookings_temp.sort_values(by=[\"temp\"])\n",
    "temp=list(bookings_temp[\"temp\"])\n",
    "bookings_temp=list(bookings_temp[\"total_bookings\"])\n",
    "\n",
    "plt.figure(figsize=(9,9))\n",
    "plt.plot(temp,bookings_temp)\n",
    "plt.xlabel(\"Temp\")\n",
    "plt.ylabel(\"Total_Bookings\")\n",
    "plt.title(\"TEMP VS TOTAL BOOKINGS\")\n",
    "plt.show()"
   ]
  },
  {
   "cell_type": "markdown",
   "metadata": {},
   "source": [
    "we can infer that when temp is between 25 and 30, we are getting highest number of bookings, and if the temp is less than 5 or greater than 40, we are having the least number of bookings\n",
    "\n",
    "\n",
    "\n",
    "\n",
    "weekday vs total bookings, to see how the bookings are related with weekday"
   ]
  },
  {
   "cell_type": "code",
   "execution_count": 710,
   "metadata": {
    "scrolled": false
   },
   "outputs": [
    {
     "data": {
      "image/png": "[encoded data removed]",
      "text/plain": [
       "<Figure size 576x576 with 1 Axes>"
      ]
     },
     "metadata": {
      "needs_background": "light"
     },
     "output_type": "display_data"
    }
   ],
   "source": [
    "bookings_weekday=x.groupby([\"weekday\"])\n",
    "weekday=list(bookings_weekday[\"weekday\"].first())\n",
    "bookings_weekday=list(bookings_weekday[\"total_bookings\"].sum())\n",
    "\n",
    "plt.figure(figsize=(8,8))\n",
    "y_pos=np.arange(len(weekday))\n",
    "plt.bar(y_pos,bookings_weekday,align=\"center\")\n",
    "plt.xticks(y_pos,weekday)\n",
    "plt.xlabel(\"Weekday\")\n",
    "plt.ylabel(\"Total_Bookings\")\n",
    "plt.title(\"WEEKDAY VS TOTAL BOOKINGS\")\n",
    "plt.show()"
   ]
  },
  {
   "cell_type": "markdown",
   "metadata": {},
   "source": [
    "we can infer that total bookings are almost same every day, but saturday witnessed slightly higher number of bookings and sunday recieved slightly less number of bookings\n",
    "\n",
    "\n",
    "\n",
    "\n",
    "\n",
    "weather vs total bookings, to see how the bookings are related with weekday"
   ]
  },
  {
   "cell_type": "code",
   "execution_count": 711,
   "metadata": {},
   "outputs": [
    {
     "data": {
      "image/png": "[encoded data removed]",
      "text/plain": [
       "<Figure size 504x504 with 1 Axes>"
      ]
     },
     "metadata": {
      "needs_background": "light"
     },
     "output_type": "display_data"
    }
   ],
   "source": [
    "bookings_weather=x.groupby([\"weather\"])\n",
    "weather=list(bookings_weather[\"weather\"].first())\n",
    "bookings_weather=list(bookings_weather[\"total_bookings\"].sum())\n",
    "\n",
    "plt.figure(figsize=(7,7))\n",
    "y_pos=np.arange(len(weather))\n",
    "plt.bar(y_pos,bookings_weather,align=\"center\")\n",
    "plt.xticks(y_pos,weather)\n",
    "plt.xlabel(\"Weather\")\n",
    "plt.ylabel(\"Total_Bookings\")\n",
    "plt.title(\"WEATHER VS TOTAL BOOKINGS\")\n",
    "plt.show()"
   ]
  },
  {
   "cell_type": "markdown",
   "metadata": {},
   "source": [
    "we can infer that when the weather is clear, there are huge number of bookings. but if there is light snow or heavy rain, there are very less number of bookings. and if the weather is mist, there are fair number of bookings.\n",
    "\n",
    "\n",
    "\n",
    "hour vs total bookings, to see what hour is the peak time "
   ]
  },
  {
   "cell_type": "code",
   "execution_count": 712,
   "metadata": {
    "scrolled": false
   },
   "outputs": [
    {
     "data": {
      "image/png": "[encoded data removed]",
      "text/plain": [
       "<Figure size 648x648 with 1 Axes>"
      ]
     },
     "metadata": {
      "needs_background": "light"
     },
     "output_type": "display_data"
    }
   ],
   "source": [
    "bookings_hour=x.groupby([\"hour\"]).sum().reset_index()\n",
    "bookings_hour[\"hour\"]=bookings_hour.hour.apply(lambda x : int(x))\n",
    "bookings_hour=bookings_hour.sort_values(by=[\"hour\"])\n",
    "hour=list(bookings_hour[\"hour\"])\n",
    "bookings_hour=list(bookings_hour[\"total_bookings\"])\n",
    "\n",
    "plt.figure(figsize=(9,9))\n",
    "plt.plot(hour,bookings_hour)\n",
    "plt.xlabel(\"Hour\")\n",
    "plt.ylabel(\"Total_Bookings\")\n",
    "plt.title(\"HOUR VS TOTAL BOOKINGS\")\n",
    "plt.show()"
   ]
  },
  {
   "cell_type": "markdown",
   "metadata": {},
   "source": [
    "we can infer that between 3 and 8 in the evening there is a hike in the total number of bookings, and around 4 in the morning there are very less number of bookings. \n",
    "\n",
    "\n",
    "\n",
    "month vs total booking, to see trend of bookings in different months"
   ]
  },
  {
   "cell_type": "code",
   "execution_count": 713,
   "metadata": {},
   "outputs": [
    {
     "data": {
      "image/png": "[encoded data removed]",
      "text/plain": [
       "<Figure size 864x576 with 1 Axes>"
      ]
     },
     "metadata": {
      "needs_background": "light"
     },
     "output_type": "display_data"
    }
   ],
   "source": [
    "bookings_month=x.groupby([\"month\"]).sum().reset_index()\n",
    "month=list(bookings_month[\"month\"])\n",
    "bookings_month=list(bookings_month[\"total_bookings\"])\n",
    "\n",
    "plt.figure(figsize=(12,8))\n",
    "y_pos=np.arange(len(month))\n",
    "plt.bar(y_pos,bookings_month,align=\"center\")\n",
    "plt.xticks(y_pos,month)\n",
    "plt.xlabel(\"month\")\n",
    "plt.ylabel(\"Total_Bookings\")\n",
    "plt.title(\"MONTH VS TOTAL BOOKINGS\")\n",
    "plt.show()"
   ]
  },
  {
   "cell_type": "markdown",
   "metadata": {},
   "source": [
    "we can infer that january recieves the lowest bookings, whereas june recieves the highest bookings(july, august, september are also recieving high bookings)."
   ]
  },
  {
   "cell_type": "markdown",
   "metadata": {},
   "source": [
    "# TASK 1- QUESTION 2- OUTLIER ANALYSIS"
   ]
  },
  {
   "cell_type": "markdown",
   "metadata": {},
   "source": [
    "there are 4 columns having continous data, and hence we check for the outliers on those columns using boxplot"
   ]
  },
  {
   "cell_type": "code",
   "execution_count": 714,
   "metadata": {},
   "outputs": [
    {
     "data": {
      "text/plain": [
       "<matplotlib.axes._subplots.AxesSubplot at 0x2291262e648>"
      ]
     },
     "execution_count": 714,
     "metadata": {},
     "output_type": "execute_result"
    },
    {
     "data": {
      "image/png": "[encoded data removed]",
      "text/plain": [
       "<Figure size 576x792 with 1 Axes>"
      ]
     },
     "metadata": {
      "needs_background": "light"
     },
     "output_type": "display_data"
    }
   ],
   "source": [
    "plt.figure(figsize=(8,11))\n",
    "x.boxplot(column=[\"temp\",\"atemp\",\"humidity\",\"windspeed\"])"
   ]
  },
  {
   "cell_type": "markdown",
   "metadata": {},
   "source": [
    "we can see there are no outliers in columns temp, atemp. but there are outliers in windspeed column and humidity column"
   ]
  },
  {
   "cell_type": "code",
   "execution_count": 715,
   "metadata": {},
   "outputs": [
    {
     "name": "stdout",
     "output_type": "stream",
     "text": [
      "(8526, 13)\n",
      "(8509, 13)\n"
     ]
    }
   ],
   "source": [
    "#outlier removal from windspeed column\n",
    "q1=x[\"windspeed\"].quantile(0.25)\n",
    "q3=x[\"windspeed\"].quantile(0.75)\n",
    "iqr=q3-q1\n",
    "x=x[((x[[\"windspeed\"]]>=q1-1.5*iqr) & (x[[\"windspeed\"]]<=q3+1.5*iqr)).all(axis=1)]\n",
    "print(x.shape)\n",
    "\n",
    "#outlier removal from humidity column\n",
    "q1=x[\"humidity\"].quantile(0.25)\n",
    "q3=x[\"humidity\"].quantile(0.75)\n",
    "iqr=q3-q1\n",
    "x=x[((x[[\"humidity\"]]>=q1-1.5*iqr) & (x[[\"humidity\"]]<=q3+1.5*iqr)).all(axis=1)]\n",
    "print(x.shape)"
   ]
  },
  {
   "cell_type": "markdown",
   "metadata": {},
   "source": [
    "verifying that there are no outliers after removal."
   ]
  },
  {
   "cell_type": "code",
   "execution_count": 716,
   "metadata": {},
   "outputs": [
    {
     "data": {
      "text/plain": [
       "<matplotlib.axes._subplots.AxesSubplot at 0x2297d53c0c8>"
      ]
     },
     "execution_count": 716,
     "metadata": {},
     "output_type": "execute_result"
    },
    {
     "data": {
      "image/png": "[encoded data removed]",
      "text/plain": [
       "<Figure size 720x720 with 1 Axes>"
      ]
     },
     "metadata": {
      "needs_background": "light"
     },
     "output_type": "display_data"
    }
   ],
   "source": [
    "plt.figure(figsize=(10,10))\n",
    "x.boxplot(column=[\"temp\",\"atemp\",\"humidity\",\"windspeed\"])"
   ]
  },
  {
   "cell_type": "markdown",
   "metadata": {},
   "source": [
    "there are no outliers in our dataset now."
   ]
  },
  {
   "cell_type": "markdown",
   "metadata": {},
   "source": [
    "# TASK 1- QUESTION 3- MISSING VALUE ANALYSIS"
   ]
  },
  {
   "cell_type": "code",
   "execution_count": 717,
   "metadata": {},
   "outputs": [
    {
     "data": {
      "text/plain": [
       "season            0\n",
       "holiday           0\n",
       "workingday        0\n",
       "weather           0\n",
       "temp              0\n",
       "atemp             0\n",
       "humidity          0\n",
       "windspeed         0\n",
       "date              0\n",
       "hour              0\n",
       "weekday           0\n",
       "month             0\n",
       "total_bookings    0\n",
       "dtype: int64"
      ]
     },
     "execution_count": 717,
     "metadata": {},
     "output_type": "execute_result"
    }
   ],
   "source": [
    "x.isnull().sum()"
   ]
  },
  {
   "cell_type": "markdown",
   "metadata": {},
   "source": [
    "there are no missing values in our dataset."
   ]
  },
  {
   "cell_type": "markdown",
   "metadata": {},
   "source": [
    "# TASK 2- QUESTION 1- FEATURE ENGINEERING"
   ]
  },
  {
   "cell_type": "markdown",
   "metadata": {},
   "source": [
    "TREATMENT OF HOLIDAY AND WORKING DAY COLUMNS IN TRAINING DATASET. THE SAME PROCESS IS DONE ON TEST DATASET AFTER SOME BLOCKS OF CODE"
   ]
  },
  {
   "cell_type": "code",
   "execution_count": 718,
   "metadata": {},
   "outputs": [
    {
     "data": {
      "text/plain": [
       "2483"
      ]
     },
     "execution_count": 718,
     "metadata": {},
     "output_type": "execute_result"
    }
   ],
   "source": [
    "(x[\"workingday\"]==x[\"holiday\"]).sum()"
   ]
  },
  {
   "cell_type": "markdown",
   "metadata": {},
   "source": [
    "holiday and working day column values are always complement of each other. but there are 2483 rows where holiday and working day column values are equal. hence these needs to be cleansed. dropping 2483 rows is equal to dropping 30% of total rows, which is not a good thing to do.\n",
    "\n",
    "extracting the dataset which is having correct values with number of rows 8509-2483=6026"
   ]
  },
  {
   "cell_type": "code",
   "execution_count": 719,
   "metadata": {},
   "outputs": [
    {
     "data": {
      "text/plain": [
       "(6026, 13)"
      ]
     },
     "execution_count": 719,
     "metadata": {},
     "output_type": "execute_result"
    }
   ],
   "source": [
    "#datset in which entries are correctly recorded, i.e, where workingday+holiday==1\n",
    "correct=x[x[\"workingday\"]!=x[\"holiday\"]]\n",
    "correct.shape"
   ]
  },
  {
   "cell_type": "code",
   "execution_count": 720,
   "metadata": {},
   "outputs": [
    {
     "data": {
      "text/plain": [
       "(2483, 13)"
      ]
     },
     "execution_count": 720,
     "metadata": {},
     "output_type": "execute_result"
    }
   ],
   "source": [
    "#dataset in which entries are wrongly recorded, i.e, where workingday+holiday!=1\n",
    "wrong=x[x[\"workingday\"]==x[\"holiday\"]]\n",
    "wrong.shape"
   ]
  },
  {
   "cell_type": "code",
   "execution_count": 721,
   "metadata": {},
   "outputs": [],
   "source": [
    "#preparing to pass through the ml algorithm\n",
    "x_correct=correct[[\"total_bookings\"]]\n",
    "y1_correct=correct[[\"workingday\"]]\n",
    "y2_correct=correct[[\"holiday\"]]\n",
    "\n",
    "x_wrong=wrong[[\"total_bookings\"]]"
   ]
  },
  {
   "cell_type": "code",
   "execution_count": 722,
   "metadata": {},
   "outputs": [
    {
     "data": {
      "text/plain": [
       "0"
      ]
     },
     "execution_count": 722,
     "metadata": {},
     "output_type": "execute_result"
    }
   ],
   "source": [
    "#getting the predicted values of working day\n",
    "lr=LogisticRegression()\n",
    "lr.fit(x_correct,y1_correct)\n",
    "y1_wrong_pred1=lr.predict(x_wrong)\n",
    "\n",
    "#getting the predicted values of holiday\n",
    "lr=LogisticRegression()\n",
    "lr.fit(x_correct,y2_correct)\n",
    "y2_wrong_pred1=lr.predict(x_wrong)\n",
    "\n",
    "#checking if there are any rows in which workingday+holiday!=1\n",
    "wrong_rows=(y1_wrong_pred1==y2_wrong_pred1).sum()\n",
    "wrong_rows"
   ]
  },
  {
   "cell_type": "code",
   "execution_count": 723,
   "metadata": {},
   "outputs": [],
   "source": [
    "wrong[\"workingday\"]=y1_wrong_pred1\n",
    "wrong[\"holiday\"]=y2_wrong_pred1"
   ]
  },
  {
   "cell_type": "code",
   "execution_count": 724,
   "metadata": {},
   "outputs": [
    {
     "data": {
      "text/html": [
       "<div>\n",
       "<style scoped>\n",
       "    .dataframe tbody tr th:only-of-type {\n",
       "        vertical-align: middle;\n",
       "    }\n",
       "\n",
       "    .dataframe tbody tr th {\n",
       "        vertical-align: top;\n",
       "    }\n",
       "\n",
       "    .dataframe thead th {\n",
       "        text-align: right;\n",
       "    }\n",
       "</style>\n",
       "<table border=\"1\" class=\"dataframe\">\n",
       "  <thead>\n",
       "    <tr style=\"text-align: right;\">\n",
       "      <th></th>\n",
       "      <th>season</th>\n",
       "      <th>holiday</th>\n",
       "      <th>workingday</th>\n",
       "      <th>weather</th>\n",
       "      <th>temp</th>\n",
       "      <th>atemp</th>\n",
       "      <th>humidity</th>\n",
       "      <th>windspeed</th>\n",
       "      <th>date</th>\n",
       "      <th>hour</th>\n",
       "      <th>weekday</th>\n",
       "      <th>month</th>\n",
       "      <th>total_bookings</th>\n",
       "    </tr>\n",
       "  </thead>\n",
       "  <tbody>\n",
       "    <tr>\n",
       "      <td>0</td>\n",
       "      <td>Summer</td>\n",
       "      <td>0</td>\n",
       "      <td>1</td>\n",
       "      <td>Clear</td>\n",
       "      <td>22.14</td>\n",
       "      <td>25.760</td>\n",
       "      <td>77</td>\n",
       "      <td>16.9979</td>\n",
       "      <td>5/2/2012</td>\n",
       "      <td>19</td>\n",
       "      <td>Wednesday</td>\n",
       "      <td>May</td>\n",
       "      <td>504</td>\n",
       "    </tr>\n",
       "    <tr>\n",
       "      <td>1</td>\n",
       "      <td>Fall</td>\n",
       "      <td>0</td>\n",
       "      <td>1</td>\n",
       "      <td>Clear</td>\n",
       "      <td>28.70</td>\n",
       "      <td>33.335</td>\n",
       "      <td>79</td>\n",
       "      <td>19.0012</td>\n",
       "      <td>9/5/2012</td>\n",
       "      <td>4</td>\n",
       "      <td>Wednesday</td>\n",
       "      <td>September</td>\n",
       "      <td>5</td>\n",
       "    </tr>\n",
       "    <tr>\n",
       "      <td>2</td>\n",
       "      <td>Spring</td>\n",
       "      <td>0</td>\n",
       "      <td>1</td>\n",
       "      <td>Clear</td>\n",
       "      <td>5.74</td>\n",
       "      <td>6.060</td>\n",
       "      <td>50</td>\n",
       "      <td>22.0028</td>\n",
       "      <td>1/13/2011</td>\n",
       "      <td>9</td>\n",
       "      <td>Thursday</td>\n",
       "      <td>January</td>\n",
       "      <td>139</td>\n",
       "    </tr>\n",
       "    <tr>\n",
       "      <td>3</td>\n",
       "      <td>Winter</td>\n",
       "      <td>0</td>\n",
       "      <td>1</td>\n",
       "      <td>Clear</td>\n",
       "      <td>13.94</td>\n",
       "      <td>16.665</td>\n",
       "      <td>29</td>\n",
       "      <td>8.9981</td>\n",
       "      <td>11/18/2011</td>\n",
       "      <td>16</td>\n",
       "      <td>Friday</td>\n",
       "      <td>November</td>\n",
       "      <td>209</td>\n",
       "    </tr>\n",
       "    <tr>\n",
       "      <td>4</td>\n",
       "      <td>Fall</td>\n",
       "      <td>0</td>\n",
       "      <td>1</td>\n",
       "      <td>Clear</td>\n",
       "      <td>30.34</td>\n",
       "      <td>33.335</td>\n",
       "      <td>51</td>\n",
       "      <td>19.0012</td>\n",
       "      <td>9/13/2011</td>\n",
       "      <td>13</td>\n",
       "      <td>Tuesday</td>\n",
       "      <td>September</td>\n",
       "      <td>184</td>\n",
       "    </tr>\n",
       "  </tbody>\n",
       "</table>\n",
       "</div>"
      ],
      "text/plain": [
       "   season  holiday  workingday weather   temp   atemp  humidity  windspeed  \\\n",
       "0  Summer        0           1   Clear  22.14  25.760        77    16.9979   \n",
       "1    Fall        0           1   Clear  28.70  33.335        79    19.0012   \n",
       "2  Spring        0           1   Clear   5.74   6.060        50    22.0028   \n",
       "3  Winter        0           1   Clear  13.94  16.665        29     8.9981   \n",
       "4    Fall        0           1   Clear  30.34  33.335        51    19.0012   \n",
       "\n",
       "         date hour    weekday      month  total_bookings  \n",
       "0    5/2/2012   19  Wednesday        May             504  \n",
       "1    9/5/2012    4  Wednesday  September               5  \n",
       "2   1/13/2011    9   Thursday    January             139  \n",
       "3  11/18/2011   16     Friday   November             209  \n",
       "4   9/13/2011   13    Tuesday  September             184  "
      ]
     },
     "execution_count": 724,
     "metadata": {},
     "output_type": "execute_result"
    }
   ],
   "source": [
    "#joining back correct and wrong, to get the combined 'x'\n",
    "x=pd.concat([correct,wrong])\n",
    "x.head()"
   ]
  },
  {
   "cell_type": "markdown",
   "metadata": {},
   "source": [
    "here we get back our 'x', having 8509 rows again, but with working day and holiday issue resolved"
   ]
  },
  {
   "cell_type": "code",
   "execution_count": 725,
   "metadata": {},
   "outputs": [
    {
     "data": {
      "text/html": [
       "<div>\n",
       "<style scoped>\n",
       "    .dataframe tbody tr th:only-of-type {\n",
       "        vertical-align: middle;\n",
       "    }\n",
       "\n",
       "    .dataframe tbody tr th {\n",
       "        vertical-align: top;\n",
       "    }\n",
       "\n",
       "    .dataframe thead th {\n",
       "        text-align: right;\n",
       "    }\n",
       "</style>\n",
       "<table border=\"1\" class=\"dataframe\">\n",
       "  <thead>\n",
       "    <tr style=\"text-align: right;\">\n",
       "      <th></th>\n",
       "      <th>season</th>\n",
       "      <th>workingday</th>\n",
       "      <th>weather</th>\n",
       "      <th>temp</th>\n",
       "      <th>atemp</th>\n",
       "      <th>humidity</th>\n",
       "      <th>windspeed</th>\n",
       "      <th>hour</th>\n",
       "      <th>weekday</th>\n",
       "      <th>month</th>\n",
       "      <th>total_bookings</th>\n",
       "    </tr>\n",
       "  </thead>\n",
       "  <tbody>\n",
       "    <tr>\n",
       "      <td>0</td>\n",
       "      <td>Summer</td>\n",
       "      <td>1</td>\n",
       "      <td>Clear</td>\n",
       "      <td>22.14</td>\n",
       "      <td>25.760</td>\n",
       "      <td>77</td>\n",
       "      <td>16.9979</td>\n",
       "      <td>19</td>\n",
       "      <td>Wednesday</td>\n",
       "      <td>May</td>\n",
       "      <td>504</td>\n",
       "    </tr>\n",
       "    <tr>\n",
       "      <td>1</td>\n",
       "      <td>Fall</td>\n",
       "      <td>1</td>\n",
       "      <td>Clear</td>\n",
       "      <td>28.70</td>\n",
       "      <td>33.335</td>\n",
       "      <td>79</td>\n",
       "      <td>19.0012</td>\n",
       "      <td>4</td>\n",
       "      <td>Wednesday</td>\n",
       "      <td>September</td>\n",
       "      <td>5</td>\n",
       "    </tr>\n",
       "    <tr>\n",
       "      <td>2</td>\n",
       "      <td>Spring</td>\n",
       "      <td>1</td>\n",
       "      <td>Clear</td>\n",
       "      <td>5.74</td>\n",
       "      <td>6.060</td>\n",
       "      <td>50</td>\n",
       "      <td>22.0028</td>\n",
       "      <td>9</td>\n",
       "      <td>Thursday</td>\n",
       "      <td>January</td>\n",
       "      <td>139</td>\n",
       "    </tr>\n",
       "    <tr>\n",
       "      <td>3</td>\n",
       "      <td>Winter</td>\n",
       "      <td>1</td>\n",
       "      <td>Clear</td>\n",
       "      <td>13.94</td>\n",
       "      <td>16.665</td>\n",
       "      <td>29</td>\n",
       "      <td>8.9981</td>\n",
       "      <td>16</td>\n",
       "      <td>Friday</td>\n",
       "      <td>November</td>\n",
       "      <td>209</td>\n",
       "    </tr>\n",
       "    <tr>\n",
       "      <td>4</td>\n",
       "      <td>Fall</td>\n",
       "      <td>1</td>\n",
       "      <td>Clear</td>\n",
       "      <td>30.34</td>\n",
       "      <td>33.335</td>\n",
       "      <td>51</td>\n",
       "      <td>19.0012</td>\n",
       "      <td>13</td>\n",
       "      <td>Tuesday</td>\n",
       "      <td>September</td>\n",
       "      <td>184</td>\n",
       "    </tr>\n",
       "  </tbody>\n",
       "</table>\n",
       "</div>"
      ],
      "text/plain": [
       "   season  workingday weather   temp   atemp  humidity  windspeed hour  \\\n",
       "0  Summer           1   Clear  22.14  25.760        77    16.9979   19   \n",
       "1    Fall           1   Clear  28.70  33.335        79    19.0012    4   \n",
       "2  Spring           1   Clear   5.74   6.060        50    22.0028    9   \n",
       "3  Winter           1   Clear  13.94  16.665        29     8.9981   16   \n",
       "4    Fall           1   Clear  30.34  33.335        51    19.0012   13   \n",
       "\n",
       "     weekday      month  total_bookings  \n",
       "0  Wednesday        May             504  \n",
       "1  Wednesday  September               5  \n",
       "2   Thursday    January             139  \n",
       "3     Friday   November             209  \n",
       "4    Tuesday  September             184  "
      ]
     },
     "execution_count": 725,
     "metadata": {},
     "output_type": "execute_result"
    }
   ],
   "source": [
    "#since, working day and holiday implies each other, we can drop any one of these 2\n",
    "x.drop(columns=[\"holiday\",\"date\"],axis=1,inplace=True)\n",
    "x.head()"
   ]
  },
  {
   "cell_type": "markdown",
   "metadata": {},
   "source": [
    "# TASK 1- QUESTION 4- DATA VISUALIZATION"
   ]
  },
  {
   "cell_type": "markdown",
   "metadata": {},
   "source": [
    "season vs total bookings, to see how the bookings are related with the kind of season"
   ]
  },
  {
   "cell_type": "code",
   "execution_count": 726,
   "metadata": {},
   "outputs": [
    {
     "data": {
      "image/png": "[encoded data removed]",
      "text/plain": [
       "<Figure size 504x504 with 1 Axes>"
      ]
     },
     "metadata": {
      "needs_background": "light"
     },
     "output_type": "display_data"
    }
   ],
   "source": [
    "bookings_season=x.groupby([\"season\"])\n",
    "season=list(bookings_season[\"season\"].first())\n",
    "bookings_season=list(bookings_season[\"total_bookings\"].sum())\n",
    "\n",
    "plt.figure(figsize=(7,7))\n",
    "y_pos=np.arange(len(season))\n",
    "plt.bar(y_pos,bookings_season,align=\"center\")\n",
    "plt.xticks(y_pos,season)\n",
    "plt.xlabel(\"Seasons\")\n",
    "plt.ylabel(\"Total_Bookings\")\n",
    "plt.title(\"SEASON VS TOTAL BOOKINGS\")\n",
    "plt.show()"
   ]
  },
  {
   "cell_type": "markdown",
   "metadata": {},
   "source": [
    "we can infer that spring season recieved the least number of bookings, and fall recieved the highest number of bookings\n",
    "\n",
    "\n",
    "\n",
    "\n",
    "\n",
    "\n",
    "temp vs total bookings, to see how the bookings are related with temp"
   ]
  },
  {
   "cell_type": "code",
   "execution_count": 727,
   "metadata": {},
   "outputs": [
    {
     "data": {
      "image/png": "[encoded data removed]",
      "text/plain": [
       "<Figure size 648x648 with 1 Axes>"
      ]
     },
     "metadata": {
      "needs_background": "light"
     },
     "output_type": "display_data"
    }
   ],
   "source": [
    "bookings_temp=x.groupby([\"temp\"]).sum().reset_index()\n",
    "bookings_temp=bookings_temp.sort_values(by=[\"temp\"])\n",
    "temp=list(bookings_temp[\"temp\"])\n",
    "bookings_temp=list(bookings_temp[\"total_bookings\"])\n",
    "\n",
    "plt.figure(figsize=(9,9))\n",
    "plt.plot(temp,bookings_temp)\n",
    "plt.xlabel(\"Temp\")\n",
    "plt.ylabel(\"Total_Bookings\")\n",
    "plt.title(\"TEMP VS TOTAL BOOKINGS\")\n",
    "plt.show()"
   ]
  },
  {
   "cell_type": "markdown",
   "metadata": {},
   "source": [
    "we can infer that when temp is between 25 and 30, we are getting highest number of bookings, and if the temp is less than 5 or greater than 40, we are having the least number of booings\n",
    "\n",
    "\n",
    "\n",
    "\n",
    "\n",
    "\n",
    "weekday vs total bookings, to see how the bookings are related with weekday"
   ]
  },
  {
   "cell_type": "code",
   "execution_count": 728,
   "metadata": {},
   "outputs": [
    {
     "data": {
      "image/png": "[encoded data removed]",
      "text/plain": [
       "<Figure size 576x576 with 1 Axes>"
      ]
     },
     "metadata": {
      "needs_background": "light"
     },
     "output_type": "display_data"
    }
   ],
   "source": [
    "bookings_weekday=x.groupby([\"weekday\"])\n",
    "weekday=list(bookings_weekday[\"weekday\"].first())\n",
    "bookings_weekday=list(bookings_weekday[\"total_bookings\"].sum())\n",
    "\n",
    "plt.figure(figsize=(8,8))\n",
    "y_pos=np.arange(len(weekday))\n",
    "plt.bar(y_pos,bookings_weekday,align=\"center\")\n",
    "plt.xticks(y_pos,weekday)\n",
    "plt.xlabel(\"Weekday\")\n",
    "plt.ylabel(\"Total_Bookings\")\n",
    "plt.title(\"WEEKDAY VS TOTAL BOOKINGS\")\n",
    "plt.show()"
   ]
  },
  {
   "cell_type": "markdown",
   "metadata": {},
   "source": [
    "we can infer that total bookings are almost same every day, but saturday witnessed slightly higher number of bookings and sunday recieved slightly less number of bookings\n",
    "\n",
    "\n",
    "\n",
    "\n",
    "\n",
    "weather vs total bookings, to see how the bookings are related with weekday"
   ]
  },
  {
   "cell_type": "code",
   "execution_count": 729,
   "metadata": {},
   "outputs": [
    {
     "data": {
      "image/png": "[encoded data removed]",
      "text/plain": [
       "<Figure size 504x504 with 1 Axes>"
      ]
     },
     "metadata": {
      "needs_background": "light"
     },
     "output_type": "display_data"
    }
   ],
   "source": [
    "bookings_weather=x.groupby([\"weather\"])\n",
    "weather=list(bookings_weather[\"weather\"].first())\n",
    "bookings_weather=list(bookings_weather[\"total_bookings\"].sum())\n",
    "\n",
    "plt.figure(figsize=(7,7))\n",
    "y_pos=np.arange(len(weather))\n",
    "plt.bar(y_pos,bookings_weather,align=\"center\")\n",
    "plt.xticks(y_pos,weather)\n",
    "plt.xlabel(\"Weather\")\n",
    "plt.ylabel(\"Total_Bookings\")\n",
    "plt.title(\"WEATHER VS TOTAL BOOKINGS\")\n",
    "plt.show()"
   ]
  },
  {
   "cell_type": "markdown",
   "metadata": {},
   "source": [
    "we can infer that when the weather is clear, there are huge number of bookings. but if there is light snow or heavy rain, there are very less number of bookings. and if the weather is mist, there are fair number of bookings.\n",
    "\n",
    "\n",
    "\n",
    "hour vs total bookings, to see what hour is the peak time "
   ]
  },
  {
   "cell_type": "code",
   "execution_count": 730,
   "metadata": {},
   "outputs": [
    {
     "data": {
      "image/png": "[encoded data removed]",
      "text/plain": [
       "<Figure size 648x648 with 1 Axes>"
      ]
     },
     "metadata": {
      "needs_background": "light"
     },
     "output_type": "display_data"
    }
   ],
   "source": [
    "bookings_hour=x.groupby([\"hour\"]).sum().reset_index()\n",
    "bookings_hour[\"hour\"]=bookings_hour.hour.apply(lambda x : int(x))\n",
    "bookings_hour=bookings_hour.sort_values(by=[\"hour\"])\n",
    "hour=list(bookings_hour[\"hour\"])\n",
    "bookings_hour=list(bookings_hour[\"total_bookings\"])\n",
    "\n",
    "plt.figure(figsize=(9,9))\n",
    "plt.plot(hour,bookings_hour)\n",
    "plt.xlabel(\"Hour\")\n",
    "plt.ylabel(\"Total_Bookings\")\n",
    "plt.title(\"HOUR VS TOTAL BOOKINGS\")\n",
    "plt.show()"
   ]
  },
  {
   "cell_type": "markdown",
   "metadata": {},
   "source": [
    "we can infer that between 3 and 6 in the evening there is a hike in the total number of bookings, and between 2 and 6 in the morning there are very less number of bookings. minimum bookings are between 4-5 in the morning, and maximum bookings are between 4-6 in the morning.\n",
    "\n",
    "\n",
    "\n",
    "month vs total booking, to see trend of bookings in different months"
   ]
  },
  {
   "cell_type": "code",
   "execution_count": 731,
   "metadata": {},
   "outputs": [
    {
     "data": {
      "image/png": "[encoded data removed]",
      "text/plain": [
       "<Figure size 864x576 with 1 Axes>"
      ]
     },
     "metadata": {
      "needs_background": "light"
     },
     "output_type": "display_data"
    }
   ],
   "source": [
    "bookings_month=x.groupby([\"month\"]).sum().reset_index()\n",
    "month=list(bookings_month[\"month\"])\n",
    "bookings_month=list(bookings_month[\"total_bookings\"])\n",
    "\n",
    "plt.figure(figsize=(12,8))\n",
    "y_pos=np.arange(len(month))\n",
    "plt.bar(y_pos,bookings_month,align=\"center\")\n",
    "plt.xticks(y_pos,month)\n",
    "plt.xlabel(\"month\")\n",
    "plt.ylabel(\"Total_Bookings\")\n",
    "plt.title(\"MONTH VS TOTAL BOOKINGS\")\n",
    "plt.show()"
   ]
  },
  {
   "cell_type": "markdown",
   "metadata": {},
   "source": [
    "we can infer that january recieves the lowest bookings, whereas june recieves the highest bookings(july, august, september are also recieving high bookings)."
   ]
  },
  {
   "cell_type": "markdown",
   "metadata": {},
   "source": [
    "# TASK 2- QUESTION 1- FEATURE ENGINEERING"
   ]
  },
  {
   "cell_type": "code",
   "execution_count": 732,
   "metadata": {},
   "outputs": [
    {
     "data": {
      "text/html": [
       "<div>\n",
       "<style scoped>\n",
       "    .dataframe tbody tr th:only-of-type {\n",
       "        vertical-align: middle;\n",
       "    }\n",
       "\n",
       "    .dataframe tbody tr th {\n",
       "        vertical-align: top;\n",
       "    }\n",
       "\n",
       "    .dataframe thead th {\n",
       "        text-align: right;\n",
       "    }\n",
       "</style>\n",
       "<table border=\"1\" class=\"dataframe\">\n",
       "  <thead>\n",
       "    <tr style=\"text-align: right;\">\n",
       "      <th></th>\n",
       "      <th>season</th>\n",
       "      <th>workingday</th>\n",
       "      <th>weather</th>\n",
       "      <th>temp</th>\n",
       "      <th>atemp</th>\n",
       "      <th>humidity</th>\n",
       "      <th>windspeed</th>\n",
       "      <th>hour</th>\n",
       "      <th>weekday</th>\n",
       "      <th>month</th>\n",
       "      <th>total_bookings</th>\n",
       "    </tr>\n",
       "  </thead>\n",
       "  <tbody>\n",
       "    <tr>\n",
       "      <td>0</td>\n",
       "      <td>2</td>\n",
       "      <td>1</td>\n",
       "      <td>0</td>\n",
       "      <td>22.14</td>\n",
       "      <td>25.760</td>\n",
       "      <td>77</td>\n",
       "      <td>16.9979</td>\n",
       "      <td>11</td>\n",
       "      <td>6</td>\n",
       "      <td>8</td>\n",
       "      <td>504</td>\n",
       "    </tr>\n",
       "    <tr>\n",
       "      <td>1</td>\n",
       "      <td>0</td>\n",
       "      <td>1</td>\n",
       "      <td>0</td>\n",
       "      <td>28.70</td>\n",
       "      <td>33.335</td>\n",
       "      <td>79</td>\n",
       "      <td>19.0012</td>\n",
       "      <td>18</td>\n",
       "      <td>6</td>\n",
       "      <td>11</td>\n",
       "      <td>5</td>\n",
       "    </tr>\n",
       "    <tr>\n",
       "      <td>2</td>\n",
       "      <td>1</td>\n",
       "      <td>1</td>\n",
       "      <td>0</td>\n",
       "      <td>5.74</td>\n",
       "      <td>6.060</td>\n",
       "      <td>50</td>\n",
       "      <td>22.0028</td>\n",
       "      <td>23</td>\n",
       "      <td>4</td>\n",
       "      <td>4</td>\n",
       "      <td>139</td>\n",
       "    </tr>\n",
       "    <tr>\n",
       "      <td>3</td>\n",
       "      <td>3</td>\n",
       "      <td>1</td>\n",
       "      <td>0</td>\n",
       "      <td>13.94</td>\n",
       "      <td>16.665</td>\n",
       "      <td>29</td>\n",
       "      <td>8.9981</td>\n",
       "      <td>8</td>\n",
       "      <td>0</td>\n",
       "      <td>9</td>\n",
       "      <td>209</td>\n",
       "    </tr>\n",
       "    <tr>\n",
       "      <td>4</td>\n",
       "      <td>0</td>\n",
       "      <td>1</td>\n",
       "      <td>0</td>\n",
       "      <td>30.34</td>\n",
       "      <td>33.335</td>\n",
       "      <td>51</td>\n",
       "      <td>19.0012</td>\n",
       "      <td>5</td>\n",
       "      <td>5</td>\n",
       "      <td>11</td>\n",
       "      <td>184</td>\n",
       "    </tr>\n",
       "  </tbody>\n",
       "</table>\n",
       "</div>"
      ],
      "text/plain": [
       "   season  workingday  weather   temp   atemp  humidity  windspeed  hour  \\\n",
       "0       2           1        0  22.14  25.760        77    16.9979    11   \n",
       "1       0           1        0  28.70  33.335        79    19.0012    18   \n",
       "2       1           1        0   5.74   6.060        50    22.0028    23   \n",
       "3       3           1        0  13.94  16.665        29     8.9981     8   \n",
       "4       0           1        0  30.34  33.335        51    19.0012     5   \n",
       "\n",
       "   weekday  month  total_bookings  \n",
       "0        6      8             504  \n",
       "1        6     11               5  \n",
       "2        4      4             139  \n",
       "3        0      9             209  \n",
       "4        5     11             184  "
      ]
     },
     "execution_count": 732,
     "metadata": {},
     "output_type": "execute_result"
    }
   ],
   "source": [
    "#label encoding columns with categorical values\n",
    "cat_columns=[\"season\",\"weather\",\"weekday\",\"month\",\"hour\"]\n",
    "le=LabelEncoder()\n",
    "for column in cat_columns:\n",
    "    x[column]=le.fit_transform(x[column])\n",
    "x.head()"
   ]
  },
  {
   "cell_type": "markdown",
   "metadata": {},
   "source": [
    "# TASK 1- QUESTION 5- CORRELATION ANALYSIS"
   ]
  },
  {
   "cell_type": "code",
   "execution_count": 733,
   "metadata": {},
   "outputs": [
    {
     "data": {
      "text/plain": [
       "(11.0, 0.0)"
      ]
     },
     "execution_count": 733,
     "metadata": {},
     "output_type": "execute_result"
    },
    {
     "data": {
      "image/png": "[encoded data removed]",
      "text/plain": [
       "<Figure size 864x864 with 2 Axes>"
      ]
     },
     "metadata": {
      "needs_background": "light"
     },
     "output_type": "display_data"
    }
   ],
   "source": [
    "#heatmap to find the correlation between columns\n",
    "corr=x.corr()\n",
    "plt.figure(figsize=(12,12))\n",
    "ax=sns.heatmap(corr,annot=True)\n",
    "bottom,top=ax.get_ylim()\n",
    "ax.set_ylim(bottom+0.5,top-0.5)"
   ]
  },
  {
   "cell_type": "markdown",
   "metadata": {},
   "source": [
    "we can see that temp and atemp are having a correlation of 0.98, and total_Bookings have equal correlation with the two. hence we can drop any of these two, and total_bookings is having high correlation with temp, humidity."
   ]
  },
  {
   "cell_type": "code",
   "execution_count": 734,
   "metadata": {},
   "outputs": [
    {
     "data": {
      "text/html": [
       "<div>\n",
       "<style scoped>\n",
       "    .dataframe tbody tr th:only-of-type {\n",
       "        vertical-align: middle;\n",
       "    }\n",
       "\n",
       "    .dataframe tbody tr th {\n",
       "        vertical-align: top;\n",
       "    }\n",
       "\n",
       "    .dataframe thead th {\n",
       "        text-align: right;\n",
       "    }\n",
       "</style>\n",
       "<table border=\"1\" class=\"dataframe\">\n",
       "  <thead>\n",
       "    <tr style=\"text-align: right;\">\n",
       "      <th></th>\n",
       "      <th>season</th>\n",
       "      <th>workingday</th>\n",
       "      <th>weather</th>\n",
       "      <th>temp</th>\n",
       "      <th>humidity</th>\n",
       "      <th>windspeed</th>\n",
       "      <th>hour</th>\n",
       "      <th>weekday</th>\n",
       "      <th>month</th>\n",
       "      <th>total_bookings</th>\n",
       "    </tr>\n",
       "  </thead>\n",
       "  <tbody>\n",
       "    <tr>\n",
       "      <td>0</td>\n",
       "      <td>2</td>\n",
       "      <td>1</td>\n",
       "      <td>0</td>\n",
       "      <td>22.14</td>\n",
       "      <td>77</td>\n",
       "      <td>16.9979</td>\n",
       "      <td>11</td>\n",
       "      <td>6</td>\n",
       "      <td>8</td>\n",
       "      <td>504</td>\n",
       "    </tr>\n",
       "    <tr>\n",
       "      <td>1</td>\n",
       "      <td>0</td>\n",
       "      <td>1</td>\n",
       "      <td>0</td>\n",
       "      <td>28.70</td>\n",
       "      <td>79</td>\n",
       "      <td>19.0012</td>\n",
       "      <td>18</td>\n",
       "      <td>6</td>\n",
       "      <td>11</td>\n",
       "      <td>5</td>\n",
       "    </tr>\n",
       "    <tr>\n",
       "      <td>2</td>\n",
       "      <td>1</td>\n",
       "      <td>1</td>\n",
       "      <td>0</td>\n",
       "      <td>5.74</td>\n",
       "      <td>50</td>\n",
       "      <td>22.0028</td>\n",
       "      <td>23</td>\n",
       "      <td>4</td>\n",
       "      <td>4</td>\n",
       "      <td>139</td>\n",
       "    </tr>\n",
       "    <tr>\n",
       "      <td>3</td>\n",
       "      <td>3</td>\n",
       "      <td>1</td>\n",
       "      <td>0</td>\n",
       "      <td>13.94</td>\n",
       "      <td>29</td>\n",
       "      <td>8.9981</td>\n",
       "      <td>8</td>\n",
       "      <td>0</td>\n",
       "      <td>9</td>\n",
       "      <td>209</td>\n",
       "    </tr>\n",
       "    <tr>\n",
       "      <td>4</td>\n",
       "      <td>0</td>\n",
       "      <td>1</td>\n",
       "      <td>0</td>\n",
       "      <td>30.34</td>\n",
       "      <td>51</td>\n",
       "      <td>19.0012</td>\n",
       "      <td>5</td>\n",
       "      <td>5</td>\n",
       "      <td>11</td>\n",
       "      <td>184</td>\n",
       "    </tr>\n",
       "  </tbody>\n",
       "</table>\n",
       "</div>"
      ],
      "text/plain": [
       "   season  workingday  weather   temp  humidity  windspeed  hour  weekday  \\\n",
       "0       2           1        0  22.14        77    16.9979    11        6   \n",
       "1       0           1        0  28.70        79    19.0012    18        6   \n",
       "2       1           1        0   5.74        50    22.0028    23        4   \n",
       "3       3           1        0  13.94        29     8.9981     8        0   \n",
       "4       0           1        0  30.34        51    19.0012     5        5   \n",
       "\n",
       "   month  total_bookings  \n",
       "0      8             504  \n",
       "1     11               5  \n",
       "2      4             139  \n",
       "3      9             209  \n",
       "4     11             184  "
      ]
     },
     "execution_count": 734,
     "metadata": {},
     "output_type": "execute_result"
    }
   ],
   "source": [
    "x.drop(columns=[\"atemp\"],axis=1,inplace=True)\n",
    "x.head()"
   ]
  },
  {
   "cell_type": "markdown",
   "metadata": {},
   "source": [
    "# TASK 2- QUESTION 1- FEATURE ENGINEERING"
   ]
  },
  {
   "cell_type": "code",
   "execution_count": 735,
   "metadata": {},
   "outputs": [],
   "source": [
    "#standardisation\n",
    "y_train=x[[\"total_bookings\"]]\n",
    "df=x.iloc[:,0:-1]\n",
    "scaler=StandardScaler()\n",
    "scaler.fit(df)\n",
    "df=pd.DataFrame(scaler.transform(df))\n",
    "df.columns=[\"season\",\"workingday\",\"weather\",\"temp\",\"humidity\",\"windspeed\",\"hour\",\"weekday\",\"month\"]\n",
    "x_train=df"
   ]
  },
  {
   "cell_type": "markdown",
   "metadata": {},
   "source": [
    "Treatment of working day and holiday on test dataset"
   ]
  },
  {
   "cell_type": "code",
   "execution_count": 736,
   "metadata": {},
   "outputs": [
    {
     "data": {
      "text/plain": [
       "627"
      ]
     },
     "execution_count": 736,
     "metadata": {},
     "output_type": "execute_result"
    }
   ],
   "source": [
    "y=x_test\n",
    "y[\"total_bookings\"]=y_test\n",
    "(y[\"workingday\"]==y[\"holiday\"]).sum()"
   ]
  },
  {
   "cell_type": "markdown",
   "metadata": {},
   "source": [
    "holiday and working day column values are always complement of each other. but there are 627 rows where holiday and working day column values are equal. hence these needs to be cleansed. dropping 627 rows is equal to dropping 29% of total rows, which is not a good thing to do.\n",
    "\n",
    "extracting the dataset which is having correct values with number of rows 2178-627=1551"
   ]
  },
  {
   "cell_type": "code",
   "execution_count": 737,
   "metadata": {},
   "outputs": [
    {
     "data": {
      "text/plain": [
       "(1551, 13)"
      ]
     },
     "execution_count": 737,
     "metadata": {},
     "output_type": "execute_result"
    }
   ],
   "source": [
    "#datset in which entries are correctly recorded, i.e, where workingday+holiday==1\n",
    "correct=y[y[\"workingday\"]!=y[\"holiday\"]]\n",
    "correct.shape"
   ]
  },
  {
   "cell_type": "code",
   "execution_count": 738,
   "metadata": {},
   "outputs": [
    {
     "data": {
      "text/plain": [
       "(627, 13)"
      ]
     },
     "execution_count": 738,
     "metadata": {},
     "output_type": "execute_result"
    }
   ],
   "source": [
    "#dataset in which entries are wrongly recorded, i.e, where workingday+holiday!=1\n",
    "wrong=y[y[\"workingday\"]==y[\"holiday\"]]\n",
    "wrong.shape"
   ]
  },
  {
   "cell_type": "code",
   "execution_count": 739,
   "metadata": {},
   "outputs": [],
   "source": [
    "#preparing to pass through the ml algorithm\n",
    "y_correct=correct[[\"total_bookings\"]]\n",
    "y1_correct=correct[[\"workingday\"]]\n",
    "y2_correct=correct[[\"holiday\"]]\n",
    "\n",
    "y_wrong=wrong[[\"total_bookings\"]]"
   ]
  },
  {
   "cell_type": "code",
   "execution_count": 740,
   "metadata": {},
   "outputs": [
    {
     "data": {
      "text/plain": [
       "0"
      ]
     },
     "execution_count": 740,
     "metadata": {},
     "output_type": "execute_result"
    }
   ],
   "source": [
    "#getting the predicted values of working day\n",
    "lr=LogisticRegression()\n",
    "lr.fit(y_correct,y1_correct)\n",
    "y1_wrong_pred1=lr.predict(y_wrong)\n",
    "\n",
    "#getting the predicted values of holiday\n",
    "lr=LogisticRegression()\n",
    "lr.fit(y_correct,y2_correct)\n",
    "y2_wrong_pred1=lr.predict(y_wrong)\n",
    "\n",
    "#checking if there are any rows in which workingday+holiday!=1\n",
    "wrong_rows=(y1_wrong_pred1==y2_wrong_pred1).sum()\n",
    "wrong_rows"
   ]
  },
  {
   "cell_type": "code",
   "execution_count": 741,
   "metadata": {},
   "outputs": [],
   "source": [
    "wrong[\"workingday\"]=y1_wrong_pred1\n",
    "wrong[\"holiday\"]=y2_wrong_pred1"
   ]
  },
  {
   "cell_type": "code",
   "execution_count": 742,
   "metadata": {},
   "outputs": [
    {
     "data": {
      "text/html": [
       "<div>\n",
       "<style scoped>\n",
       "    .dataframe tbody tr th:only-of-type {\n",
       "        vertical-align: middle;\n",
       "    }\n",
       "\n",
       "    .dataframe tbody tr th {\n",
       "        vertical-align: top;\n",
       "    }\n",
       "\n",
       "    .dataframe thead th {\n",
       "        text-align: right;\n",
       "    }\n",
       "</style>\n",
       "<table border=\"1\" class=\"dataframe\">\n",
       "  <thead>\n",
       "    <tr style=\"text-align: right;\">\n",
       "      <th></th>\n",
       "      <th>season</th>\n",
       "      <th>holiday</th>\n",
       "      <th>workingday</th>\n",
       "      <th>weather</th>\n",
       "      <th>temp</th>\n",
       "      <th>atemp</th>\n",
       "      <th>humidity</th>\n",
       "      <th>windspeed</th>\n",
       "      <th>date</th>\n",
       "      <th>hour</th>\n",
       "      <th>weekday</th>\n",
       "      <th>month</th>\n",
       "      <th>total_bookings</th>\n",
       "    </tr>\n",
       "  </thead>\n",
       "  <tbody>\n",
       "    <tr>\n",
       "      <td>0</td>\n",
       "      <td>Summer</td>\n",
       "      <td>0</td>\n",
       "      <td>1</td>\n",
       "      <td>Clear</td>\n",
       "      <td>21.32</td>\n",
       "      <td>25.000</td>\n",
       "      <td>48</td>\n",
       "      <td>35.0008</td>\n",
       "      <td>5/10/2012</td>\n",
       "      <td>11</td>\n",
       "      <td>Thursday</td>\n",
       "      <td>May</td>\n",
       "      <td>256</td>\n",
       "    </tr>\n",
       "    <tr>\n",
       "      <td>3</td>\n",
       "      <td>Winter</td>\n",
       "      <td>0</td>\n",
       "      <td>1</td>\n",
       "      <td>Mist</td>\n",
       "      <td>25.42</td>\n",
       "      <td>28.790</td>\n",
       "      <td>83</td>\n",
       "      <td>0.0000</td>\n",
       "      <td>10/13/2011</td>\n",
       "      <td>11</td>\n",
       "      <td>Thursday</td>\n",
       "      <td>October</td>\n",
       "      <td>84</td>\n",
       "    </tr>\n",
       "    <tr>\n",
       "      <td>5</td>\n",
       "      <td>Summer</td>\n",
       "      <td>0</td>\n",
       "      <td>1</td>\n",
       "      <td>Clear</td>\n",
       "      <td>12.30</td>\n",
       "      <td>15.910</td>\n",
       "      <td>61</td>\n",
       "      <td>6.0032</td>\n",
       "      <td>4/1/2011</td>\n",
       "      <td>23</td>\n",
       "      <td>Friday</td>\n",
       "      <td>April</td>\n",
       "      <td>53</td>\n",
       "    </tr>\n",
       "    <tr>\n",
       "      <td>7</td>\n",
       "      <td>Winter</td>\n",
       "      <td>0</td>\n",
       "      <td>1</td>\n",
       "      <td>Mist</td>\n",
       "      <td>16.40</td>\n",
       "      <td>20.455</td>\n",
       "      <td>50</td>\n",
       "      <td>11.0014</td>\n",
       "      <td>11/1/2012</td>\n",
       "      <td>18</td>\n",
       "      <td>Thursday</td>\n",
       "      <td>November</td>\n",
       "      <td>678</td>\n",
       "    </tr>\n",
       "    <tr>\n",
       "      <td>8</td>\n",
       "      <td>Winter</td>\n",
       "      <td>0</td>\n",
       "      <td>1</td>\n",
       "      <td>Clear</td>\n",
       "      <td>18.86</td>\n",
       "      <td>22.725</td>\n",
       "      <td>41</td>\n",
       "      <td>23.9994</td>\n",
       "      <td>10/12/2012</td>\n",
       "      <td>16</td>\n",
       "      <td>Friday</td>\n",
       "      <td>October</td>\n",
       "      <td>520</td>\n",
       "    </tr>\n",
       "  </tbody>\n",
       "</table>\n",
       "</div>"
      ],
      "text/plain": [
       "   season  holiday  workingday weather   temp   atemp  humidity  windspeed  \\\n",
       "0  Summer        0           1   Clear  21.32  25.000        48    35.0008   \n",
       "3  Winter        0           1    Mist  25.42  28.790        83     0.0000   \n",
       "5  Summer        0           1   Clear  12.30  15.910        61     6.0032   \n",
       "7  Winter        0           1    Mist  16.40  20.455        50    11.0014   \n",
       "8  Winter        0           1   Clear  18.86  22.725        41    23.9994   \n",
       "\n",
       "         date hour   weekday     month  total_bookings  \n",
       "0   5/10/2012   11  Thursday       May             256  \n",
       "3  10/13/2011   11  Thursday   October              84  \n",
       "5    4/1/2011   23    Friday     April              53  \n",
       "7   11/1/2012   18  Thursday  November             678  \n",
       "8  10/12/2012   16    Friday   October             520  "
      ]
     },
     "execution_count": 742,
     "metadata": {},
     "output_type": "execute_result"
    }
   ],
   "source": [
    "#joining back correct and wrong, to get the combined 'x'\n",
    "y=pd.concat([correct,wrong])\n",
    "y.head()"
   ]
  },
  {
   "cell_type": "code",
   "execution_count": 743,
   "metadata": {},
   "outputs": [
    {
     "data": {
      "text/html": [
       "<div>\n",
       "<style scoped>\n",
       "    .dataframe tbody tr th:only-of-type {\n",
       "        vertical-align: middle;\n",
       "    }\n",
       "\n",
       "    .dataframe tbody tr th {\n",
       "        vertical-align: top;\n",
       "    }\n",
       "\n",
       "    .dataframe thead th {\n",
       "        text-align: right;\n",
       "    }\n",
       "</style>\n",
       "<table border=\"1\" class=\"dataframe\">\n",
       "  <thead>\n",
       "    <tr style=\"text-align: right;\">\n",
       "      <th></th>\n",
       "      <th>season</th>\n",
       "      <th>workingday</th>\n",
       "      <th>weather</th>\n",
       "      <th>temp</th>\n",
       "      <th>humidity</th>\n",
       "      <th>windspeed</th>\n",
       "      <th>hour</th>\n",
       "      <th>weekday</th>\n",
       "      <th>month</th>\n",
       "      <th>total_bookings</th>\n",
       "    </tr>\n",
       "  </thead>\n",
       "  <tbody>\n",
       "    <tr>\n",
       "      <td>0</td>\n",
       "      <td>Summer</td>\n",
       "      <td>1</td>\n",
       "      <td>Clear</td>\n",
       "      <td>21.32</td>\n",
       "      <td>48</td>\n",
       "      <td>35.0008</td>\n",
       "      <td>11</td>\n",
       "      <td>Thursday</td>\n",
       "      <td>May</td>\n",
       "      <td>256</td>\n",
       "    </tr>\n",
       "    <tr>\n",
       "      <td>3</td>\n",
       "      <td>Winter</td>\n",
       "      <td>1</td>\n",
       "      <td>Mist</td>\n",
       "      <td>25.42</td>\n",
       "      <td>83</td>\n",
       "      <td>0.0000</td>\n",
       "      <td>11</td>\n",
       "      <td>Thursday</td>\n",
       "      <td>October</td>\n",
       "      <td>84</td>\n",
       "    </tr>\n",
       "    <tr>\n",
       "      <td>5</td>\n",
       "      <td>Summer</td>\n",
       "      <td>1</td>\n",
       "      <td>Clear</td>\n",
       "      <td>12.30</td>\n",
       "      <td>61</td>\n",
       "      <td>6.0032</td>\n",
       "      <td>23</td>\n",
       "      <td>Friday</td>\n",
       "      <td>April</td>\n",
       "      <td>53</td>\n",
       "    </tr>\n",
       "    <tr>\n",
       "      <td>7</td>\n",
       "      <td>Winter</td>\n",
       "      <td>1</td>\n",
       "      <td>Mist</td>\n",
       "      <td>16.40</td>\n",
       "      <td>50</td>\n",
       "      <td>11.0014</td>\n",
       "      <td>18</td>\n",
       "      <td>Thursday</td>\n",
       "      <td>November</td>\n",
       "      <td>678</td>\n",
       "    </tr>\n",
       "    <tr>\n",
       "      <td>8</td>\n",
       "      <td>Winter</td>\n",
       "      <td>1</td>\n",
       "      <td>Clear</td>\n",
       "      <td>18.86</td>\n",
       "      <td>41</td>\n",
       "      <td>23.9994</td>\n",
       "      <td>16</td>\n",
       "      <td>Friday</td>\n",
       "      <td>October</td>\n",
       "      <td>520</td>\n",
       "    </tr>\n",
       "  </tbody>\n",
       "</table>\n",
       "</div>"
      ],
      "text/plain": [
       "   season  workingday weather   temp  humidity  windspeed hour   weekday  \\\n",
       "0  Summer           1   Clear  21.32        48    35.0008   11  Thursday   \n",
       "3  Winter           1    Mist  25.42        83     0.0000   11  Thursday   \n",
       "5  Summer           1   Clear  12.30        61     6.0032   23    Friday   \n",
       "7  Winter           1    Mist  16.40        50    11.0014   18  Thursday   \n",
       "8  Winter           1   Clear  18.86        41    23.9994   16    Friday   \n",
       "\n",
       "      month  total_bookings  \n",
       "0       May             256  \n",
       "3   October              84  \n",
       "5     April              53  \n",
       "7  November             678  \n",
       "8   October             520  "
      ]
     },
     "execution_count": 743,
     "metadata": {},
     "output_type": "execute_result"
    }
   ],
   "source": [
    "y.drop(columns=[\"holiday\",\"date\",\"atemp\"],axis=1,inplace=True)\n",
    "y.head()"
   ]
  },
  {
   "cell_type": "code",
   "execution_count": 744,
   "metadata": {},
   "outputs": [
    {
     "data": {
      "text/html": [
       "<div>\n",
       "<style scoped>\n",
       "    .dataframe tbody tr th:only-of-type {\n",
       "        vertical-align: middle;\n",
       "    }\n",
       "\n",
       "    .dataframe tbody tr th {\n",
       "        vertical-align: top;\n",
       "    }\n",
       "\n",
       "    .dataframe thead th {\n",
       "        text-align: right;\n",
       "    }\n",
       "</style>\n",
       "<table border=\"1\" class=\"dataframe\">\n",
       "  <thead>\n",
       "    <tr style=\"text-align: right;\">\n",
       "      <th></th>\n",
       "      <th>season</th>\n",
       "      <th>workingday</th>\n",
       "      <th>weather</th>\n",
       "      <th>temp</th>\n",
       "      <th>humidity</th>\n",
       "      <th>windspeed</th>\n",
       "      <th>hour</th>\n",
       "      <th>weekday</th>\n",
       "      <th>month</th>\n",
       "      <th>total_bookings</th>\n",
       "    </tr>\n",
       "  </thead>\n",
       "  <tbody>\n",
       "    <tr>\n",
       "      <td>0</td>\n",
       "      <td>2</td>\n",
       "      <td>1</td>\n",
       "      <td>0</td>\n",
       "      <td>21.32</td>\n",
       "      <td>48</td>\n",
       "      <td>35.0008</td>\n",
       "      <td>3</td>\n",
       "      <td>4</td>\n",
       "      <td>8</td>\n",
       "      <td>256</td>\n",
       "    </tr>\n",
       "    <tr>\n",
       "      <td>3</td>\n",
       "      <td>3</td>\n",
       "      <td>1</td>\n",
       "      <td>2</td>\n",
       "      <td>25.42</td>\n",
       "      <td>83</td>\n",
       "      <td>0.0000</td>\n",
       "      <td>3</td>\n",
       "      <td>4</td>\n",
       "      <td>10</td>\n",
       "      <td>84</td>\n",
       "    </tr>\n",
       "    <tr>\n",
       "      <td>5</td>\n",
       "      <td>2</td>\n",
       "      <td>1</td>\n",
       "      <td>0</td>\n",
       "      <td>12.30</td>\n",
       "      <td>61</td>\n",
       "      <td>6.0032</td>\n",
       "      <td>16</td>\n",
       "      <td>0</td>\n",
       "      <td>0</td>\n",
       "      <td>53</td>\n",
       "    </tr>\n",
       "    <tr>\n",
       "      <td>7</td>\n",
       "      <td>3</td>\n",
       "      <td>1</td>\n",
       "      <td>2</td>\n",
       "      <td>16.40</td>\n",
       "      <td>50</td>\n",
       "      <td>11.0014</td>\n",
       "      <td>10</td>\n",
       "      <td>4</td>\n",
       "      <td>9</td>\n",
       "      <td>678</td>\n",
       "    </tr>\n",
       "    <tr>\n",
       "      <td>8</td>\n",
       "      <td>3</td>\n",
       "      <td>1</td>\n",
       "      <td>0</td>\n",
       "      <td>18.86</td>\n",
       "      <td>41</td>\n",
       "      <td>23.9994</td>\n",
       "      <td>8</td>\n",
       "      <td>0</td>\n",
       "      <td>10</td>\n",
       "      <td>520</td>\n",
       "    </tr>\n",
       "  </tbody>\n",
       "</table>\n",
       "</div>"
      ],
      "text/plain": [
       "   season  workingday  weather   temp  humidity  windspeed  hour  weekday  \\\n",
       "0       2           1        0  21.32        48    35.0008     3        4   \n",
       "3       3           1        2  25.42        83     0.0000     3        4   \n",
       "5       2           1        0  12.30        61     6.0032    16        0   \n",
       "7       3           1        2  16.40        50    11.0014    10        4   \n",
       "8       3           1        0  18.86        41    23.9994     8        0   \n",
       "\n",
       "   month  total_bookings  \n",
       "0      8             256  \n",
       "3     10              84  \n",
       "5      0              53  \n",
       "7      9             678  \n",
       "8     10             520  "
      ]
     },
     "execution_count": 744,
     "metadata": {},
     "output_type": "execute_result"
    }
   ],
   "source": [
    "#label encoding the categorical columns\n",
    "cat_columns=[\"season\",\"weather\",\"weekday\",\"month\",\"hour\"]\n",
    "le=LabelEncoder()\n",
    "for column in cat_columns:\n",
    "    y[column]=le.fit_transform(y[column])\n",
    "y.head()"
   ]
  },
  {
   "cell_type": "code",
   "execution_count": 745,
   "metadata": {},
   "outputs": [],
   "source": [
    "#standardisation\n",
    "y_test=y[[\"total_bookings\"]]\n",
    "df=y.iloc[:,0:-1]\n",
    "scaler=StandardScaler()\n",
    "scaler.fit(df)\n",
    "df=pd.DataFrame(scaler.transform(df))\n",
    "df.columns=[\"season\",\"workingday\",\"weather\",\"temp\",\"humidity\",\"windspeed\",\"hour\",\"weekday\",\"month\"]\n",
    "x_test=df"
   ]
  },
  {
   "cell_type": "markdown",
   "metadata": {},
   "source": [
    "# TASK 2- QUESTION 3- RERESSION ANALYSIS"
   ]
  },
  {
   "cell_type": "code",
   "execution_count": 746,
   "metadata": {
    "scrolled": true
   },
   "outputs": [],
   "source": [
    "#Final x_train,y_train,x_test,y_test\n",
    "x_train=x_train[[\"temp\",\"humidity\",\"hour\",\"weekday\",\"windspeed\",\"month\",\"weather\"]]\n",
    "x_test=x_test[[\"temp\",\"humidity\",\"hour\",\"weekday\",\"windspeed\",\"month\",\"weather\"]]"
   ]
  },
  {
   "cell_type": "code",
   "execution_count": 747,
   "metadata": {},
   "outputs": [
    {
     "name": "stdout",
     "output_type": "stream",
     "text": [
      "DecisionTreeRegressor 93.89693077420277\n",
      "Lasso 153.7715894288228\n",
      "Ridge 153.73210895951107\n",
      "LinearRegression 153.73202601872197\n",
      "SVR 153.78813343301096\n"
     ]
    }
   ],
   "source": [
    "models=[DecisionTreeRegressor(),Lasso(),Ridge(),LinearRegression(),SVR()]\n",
    "names=[\"DecisionTreeRegressor\",\"Lasso\",\"Ridge\",\"LinearRegression\",\"SVR\"]\n",
    "for model,name in zip(models,names):\n",
    "    model.fit(x_train,y_train)\n",
    "    y_pred=model.predict(x_test)\n",
    "    mse=mean_squared_error(y_test,y_pred)\n",
    "    print(name,np.sqrt(mse))"
   ]
  },
  {
   "cell_type": "markdown",
   "metadata": {},
   "source": [
    "We can discard all the models and consider only DecisionTreeRegressor"
   ]
  },
  {
   "cell_type": "markdown",
   "metadata": {},
   "source": [
    "# TASK 2- QUESTION 4- ENSEMBLE ANALYSIS"
   ]
  },
  {
   "cell_type": "code",
   "execution_count": 748,
   "metadata": {},
   "outputs": [
    {
     "name": "stdout",
     "output_type": "stream",
     "text": [
      "Xgboost 62.375004894965834\n",
      "RandomForest 71.56935410477733\n",
      "AdaBoost 132.21268122328078\n"
     ]
    }
   ],
   "source": [
    "models=[xgb.XGBRegressor(),RandomForestRegressor(),AdaBoostRegressor()]\n",
    "names=[\"Xgboost\",\"RandomForest\",\"AdaBoost\"]\n",
    "for model,name in zip(models,names):\n",
    "    model.fit(x_train,y_train)\n",
    "    y_pred=model.predict(x_test)\n",
    "    mse=mean_squared_error(y_test,y_pred)\n",
    "    print(name,np.sqrt(mse))"
   ]
  },
  {
   "cell_type": "markdown",
   "metadata": {},
   "source": [
    "We can discard adaboost, random forest, and consider only xgboost"
   ]
  },
  {
   "cell_type": "markdown",
   "metadata": {},
   "source": [
    "# TASK 2- QUESTION 2- GRID SEARCH FOR DECISION TREE"
   ]
  },
  {
   "cell_type": "code",
   "execution_count": 749,
   "metadata": {},
   "outputs": [
    {
     "name": "stdout",
     "output_type": "stream",
     "text": [
      "{'criterion': 'mse',\n",
      " 'max_depth': None,\n",
      " 'max_features': None,\n",
      " 'max_leaf_nodes': None,\n",
      " 'min_impurity_decrease': 0.0,\n",
      " 'min_impurity_split': None,\n",
      " 'min_samples_leaf': 1,\n",
      " 'min_samples_split': 2,\n",
      " 'min_weight_fraction_leaf': 0.0,\n",
      " 'presort': False,\n",
      " 'random_state': None,\n",
      " 'splitter': 'best'}\n"
     ]
    }
   ],
   "source": [
    "dtr=DecisionTreeRegressor()\n",
    "pprint(dtr.get_params())"
   ]
  },
  {
   "cell_type": "code",
   "execution_count": 750,
   "metadata": {},
   "outputs": [
    {
     "name": "stdout",
     "output_type": "stream",
     "text": [
      "best parameters: {'max_depth': 12, 'min_samples_leaf': 20}\n",
      "rmse: 78.97175553995616\n"
     ]
    }
   ],
   "source": [
    "num_leafs = [1, 5, 10, 20, 40, 80]\n",
    "max_depths = np.arange(1, 21)\n",
    "parameters = {'max_depth':max_depths,'min_samples_leaf':num_leafs}\n",
    "dtr_grid = GridSearchCV(dtr,parameters,cv = 2,n_jobs = -1,verbose=False)\n",
    "dtr_grid.fit(x_train,y_train)\n",
    "print(\"best parameters:\",dtr_grid.best_params_)\n",
    "model = dtr_grid.best_estimator_\n",
    "y_pred=model.predict(x_test)\n",
    "mse=mean_squared_error(y_test,y_pred)\n",
    "print(\"rmse:\",np.sqrt(mse))"
   ]
  },
  {
   "cell_type": "markdown",
   "metadata": {},
   "source": [
    "# TASK 2- QUESTION 2- GRID SEARCH FOR XGBOOST "
   ]
  },
  {
   "cell_type": "code",
   "execution_count": 751,
   "metadata": {
    "scrolled": true
   },
   "outputs": [
    {
     "name": "stdout",
     "output_type": "stream",
     "text": [
      "{'base_score': None,\n",
      " 'booster': None,\n",
      " 'colsample_bylevel': None,\n",
      " 'colsample_bynode': None,\n",
      " 'colsample_bytree': None,\n",
      " 'gamma': None,\n",
      " 'gpu_id': None,\n",
      " 'importance_type': 'gain',\n",
      " 'interaction_constraints': None,\n",
      " 'learning_rate': None,\n",
      " 'max_delta_step': None,\n",
      " 'max_depth': None,\n",
      " 'min_child_weight': None,\n",
      " 'missing': nan,\n",
      " 'monotone_constraints': None,\n",
      " 'n_estimators': 100,\n",
      " 'n_jobs': None,\n",
      " 'nthread': -1,\n",
      " 'num_parallel_tree': None,\n",
      " 'objective': 'reg:squarederror',\n",
      " 'random_state': None,\n",
      " 'reg_alpha': None,\n",
      " 'reg_lambda': None,\n",
      " 'scale_pos_weight': None,\n",
      " 'subsample': None,\n",
      " 'tree_method': None,\n",
      " 'validate_parameters': None,\n",
      " 'verbosity': None}\n"
     ]
    }
   ],
   "source": [
    "xgb = XGBRegressor(nthread=-1)\n",
    "pprint(xgb.get_params())"
   ]
  },
  {
   "cell_type": "code",
   "execution_count": 752,
   "metadata": {},
   "outputs": [
    {
     "name": "stdout",
     "output_type": "stream",
     "text": [
      "best parameters: {'gamma': 0.4, 'learning_rate': 0.1, 'max_depth': 6, 'min_child_weight': 2, 'random_state': 0}\n",
      "rmse: 64.66490881339585\n"
     ]
    }
   ],
   "source": [
    "parameters = {'min_child_weight':[2,3,4], 'gamma':[i/10.0 for i in range(4,15)], 'max_depth': [3,4,6],'random_state':[0,10,20], 'learning_rate':[0.1,0.01,None]}\n",
    "xgb_grid = GridSearchCV(xgb,parameters,cv = 2,n_jobs = -1,verbose=False)\n",
    "xgb_grid.fit(x_train,y_train)\n",
    "print(\"best parameters:\",xgb_grid.best_params_)\n",
    "model = xgb_grid.best_estimator_\n",
    "y_pred=model.predict(x_test)\n",
    "mse=mean_squared_error(y_test,y_pred)\n",
    "print(\"rmse:\",np.sqrt(mse))"
   ]
  },
  {
   "cell_type": "markdown",
   "metadata": {},
   "source": [
    "# FINAL MODELS"
   ]
  },
  {
   "cell_type": "code",
   "execution_count": 753,
   "metadata": {},
   "outputs": [
    {
     "name": "stdout",
     "output_type": "stream",
     "text": [
      "DecisionTree: 78.6011067038566\n"
     ]
    }
   ],
   "source": [
    "model=DecisionTreeRegressor(max_depth=10,min_samples_leaf=20)\n",
    "model.fit(x_train,y_train)\n",
    "y_pred=model.predict(x_test)\n",
    "mse=mean_squared_error(y_test,y_pred)\n",
    "print(\"DecisionTree:\",np.sqrt(mse))"
   ]
  },
  {
   "cell_type": "code",
   "execution_count": 754,
   "metadata": {},
   "outputs": [
    {
     "name": "stdout",
     "output_type": "stream",
     "text": [
      "xgboost: 62.00334621644818\n"
     ]
    }
   ],
   "source": [
    "import xgboost as xgb\n",
    "model=xgb.XGBRegressor(gamma=0.4)\n",
    "model.fit(x_train,y_train)\n",
    "y_pred=model.predict(x_test)\n",
    "mse=mean_squared_error(y_test,y_pred)\n",
    "print(\"xgboost:\",np.sqrt(mse))"
   ]
  },
  {
   "cell_type": "markdown",
   "metadata": {},
   "source": [
    "# RESULT"
   ]
  },
  {
   "cell_type": "markdown",
   "metadata": {},
   "source": [
    "1. After all the analysis, we can see that xgboost which is an ensemble model is best in this problem. \n",
    "2. The work which is done on working day and holiday columns is not much useful, because finally i didnt consider them in predicting. \n",
    "3. We could also see that, the number of bookings are more dependent on temperature than that of the rest of columns, but i had an instinct that working day would be the most important column, and surprisingly  i didnt even consider it. So, its a lesson that we should never completely go on instincts, and everything depends on data.\n",
    "4. we could see that, xgboost is working good with its default parameters, except gamma."
   ]
  }
 ],
 "metadata": {
  "kernelspec": {
   "display_name": "Python 3",
   "language": "python",
   "name": "python3"
  },
  "language_info": {
   "codemirror_mode": {
    "name": "ipython",
    "version": 3
   },
   "file_extension": ".py",
   "mimetype": "text/x-python",
   "name": "python",
   "nbconvert_exporter": "python",
   "pygments_lexer": "ipython3",
   "version": "3.8.3"
  }
 },
 "nbformat": 4,
 "nbformat_minor": 2
}
